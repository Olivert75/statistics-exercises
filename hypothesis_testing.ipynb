{
 "cells": [
  {
   "cell_type": "markdown",
   "id": "19644389",
   "metadata": {},
   "source": [
    "# For each of the following questions, formulate a null and alternative hypothesis (be as specific as you can be), then give an example of what a true positive, true negative, type I and type II errors would look like. Note that some of the questions are intentionally phrased in a vague way. It is your job to reword these as more precise questions that could be tested."
   ]
  },
  {
   "cell_type": "markdown",
   "id": "dcb7ae25",
   "metadata": {},
   "source": [
    "# Has the network latency gone up since we switched internet service providers?"
   ]
  },
  {
   "cell_type": "markdown",
   "id": "bfbcec7a",
   "metadata": {},
   "source": [
    "H0: There is not a significant difference in the network latency with different internet providers\n",
    "\n",
    "H1: There is a significat increase in the network latency with different internet providers\n",
    "\n",
    "type I error = I reject there is not a significant difference in the network latency with different internet providers but in reality there is not a significant\n",
    "\n",
    "type II error = I fail to reject the null hypothesis (There is not a significant difference in the network latency with different internet providers) when it is actually false that means There is a significat increase in the network latency with different internet providers."
   ]
  },
  {
   "cell_type": "markdown",
   "id": "7d352b8d",
   "metadata": {},
   "source": [
    "# Is the website redesign any good?"
   ]
  },
  {
   "cell_type": "markdown",
   "id": "91e5ddb9",
   "metadata": {},
   "source": [
    "H0: the website redesign does not increase revenue\n",
    "\n",
    "H1: :the website redesign increases revenue\n",
    "\n",
    "type I error : I reject the null hypothesis( the website redesign does not increase revenue) but it is acually true\n",
    "\n",
    "type II error: I fail to reject the null hypothesis (the website redesign does not increase revenue) but acually the website redesign increases revenue"
   ]
  },
  {
   "cell_type": "markdown",
   "id": "0643ca8b",
   "metadata": {},
   "source": [
    "# Is our television ad driving more sales?"
   ]
  },
  {
   "cell_type": "markdown",
   "id": "17b04dbd",
   "metadata": {},
   "source": [
    "H0: the television add does not change sales\n",
    "\n",
    "H1: the television ad increases sales\n",
    "\n",
    "type I error : I reject the null hypothesis (television ad increase sales), but, in reality television add does not change sales\n",
    "\n",
    "type II error : I fail to reject the null hypothesis (television ad increase sales) when it is actually false."
   ]
  },
  {
   "cell_type": "markdown",
   "id": "fde28516",
   "metadata": {},
   "source": [
    "# T-test exercises"
   ]
  },
  {
   "cell_type": "code",
   "execution_count": 5,
   "id": "d80fae06",
   "metadata": {},
   "outputs": [],
   "source": [
    "import numpy as np\n",
    "import seaborn as sns\n",
    "import pandas as pd\n",
    "import scipy.stats as stats\n",
    "import matplotlib.pyplot as plt\n",
    "from pydataset import data"
   ]
  },
  {
   "cell_type": "markdown",
   "id": "ef28da9d",
   "metadata": {},
   "source": [
    "# Ace Realty wants to determine whether the average time it takes to sell homes is different for its two offices. A sample of 40 sales from office #1 revealed a mean of 90 days and a standard deviation of 15 days. A sample of 50 sales from office #2 revealed a mean of 100 days and a standard deviation of 20 days. Use a .05 level of significance."
   ]
  },
  {
   "cell_type": "markdown",
   "id": "1f9fa035",
   "metadata": {},
   "source": [
    "- H0: Mean days to sell for office 1 same as mean days to sell for office 2\n",
    "- H1: Mean days to sell for office 1 is difference in mean days to sell for office 2\n",
    "\n",
    "- Type I error: We reject that there is no diffference in mean days to sell at two offices\n",
    "- Type II error: We failed to reject the H0 if there is a difference in mean days to sell at two offices\n",
    "\n",
    "- Type of T-test: Two sample T-test, two tailed"
   ]
  },
  {
   "cell_type": "code",
   "execution_count": 2,
   "id": "f5fc0c93",
   "metadata": {},
   "outputs": [],
   "source": [
    "#Two Samples\n",
    "\n",
    "store_1 = 40\n",
    "mean1 = 90\n",
    "std1 = 15\n",
    "\n",
    "store_2 = 50\n",
    "mean2 = 100\n",
    "std2 = 20\n",
    "\n",
    "#Level of significance\n",
    "α = 0.05"
   ]
  },
  {
   "cell_type": "code",
   "execution_count": 8,
   "id": "e8410dbb",
   "metadata": {},
   "outputs": [
    {
     "data": {
      "text/plain": [
       "(-2.7091418459143854, 0.00811206270346016)"
      ]
     },
     "execution_count": 8,
     "metadata": {},
     "output_type": "execute_result"
    }
   ],
   "source": [
    "t, p = stats.ttest_ind_from_stats(mean1, std1, store_1, mean2, std2, store_2, equal_var=False)\n",
    "t, p"
   ]
  },
  {
   "cell_type": "code",
   "execution_count": 9,
   "id": "5211651e",
   "metadata": {},
   "outputs": [
    {
     "name": "stdout",
     "output_type": "stream",
     "text": [
      "We reject the null hypothesis\n"
     ]
    }
   ],
   "source": [
    "if p < α:\n",
    "    print (\"We reject the null hypothesis\")\n",
    "else:\n",
    "    print (\"We failed to reject the null hypothesis\")"
   ]
  },
  {
   "cell_type": "markdown",
   "id": "6901f8d3",
   "metadata": {},
   "source": [
    "# Load the mpg dataset and use it to answer the following questions:\n",
    "# Is there a difference in fuel-efficiency in cars from 2008 vs 1999?"
   ]
  },
  {
   "cell_type": "markdown",
   "id": "4a8dd1dc",
   "metadata": {},
   "source": [
    "- H0: There is not a difference in fuel-efficiency in cars from 2008 to 1999\n",
    "- H1: There is a significant difference in fuel-efficiency in cars from 2008 to 1999\n",
    "\n",
    "- Type I error: Our tersting is showing us incorrectly that there is a significant difference that's why we reject (There is not significant change in fuel-efficiency in cars from 2008 to 1999) we reject H0\n",
    "- Type II error: There is a significant difference in fuel-efficiency in cars from 2008 to 1999 and we failed to reject H0\n",
    "- Type of T-test: 2 sample, 2 tailed test"
   ]
  },
  {
   "cell_type": "code",
   "execution_count": 18,
   "id": "c880e8ce",
   "metadata": {},
   "outputs": [
    {
     "data": {
      "text/html": [
       "<div>\n",
       "<style scoped>\n",
       "    .dataframe tbody tr th:only-of-type {\n",
       "        vertical-align: middle;\n",
       "    }\n",
       "\n",
       "    .dataframe tbody tr th {\n",
       "        vertical-align: top;\n",
       "    }\n",
       "\n",
       "    .dataframe thead th {\n",
       "        text-align: right;\n",
       "    }\n",
       "</style>\n",
       "<table border=\"1\" class=\"dataframe\">\n",
       "  <thead>\n",
       "    <tr style=\"text-align: right;\">\n",
       "      <th></th>\n",
       "      <th>manufacturer</th>\n",
       "      <th>model</th>\n",
       "      <th>displ</th>\n",
       "      <th>year</th>\n",
       "      <th>cyl</th>\n",
       "      <th>trans</th>\n",
       "      <th>drv</th>\n",
       "      <th>cty</th>\n",
       "      <th>hwy</th>\n",
       "      <th>fl</th>\n",
       "      <th>class</th>\n",
       "    </tr>\n",
       "  </thead>\n",
       "  <tbody>\n",
       "    <tr>\n",
       "      <th>1</th>\n",
       "      <td>audi</td>\n",
       "      <td>a4</td>\n",
       "      <td>1.8</td>\n",
       "      <td>1999</td>\n",
       "      <td>4</td>\n",
       "      <td>auto(l5)</td>\n",
       "      <td>f</td>\n",
       "      <td>18</td>\n",
       "      <td>29</td>\n",
       "      <td>p</td>\n",
       "      <td>compact</td>\n",
       "    </tr>\n",
       "    <tr>\n",
       "      <th>2</th>\n",
       "      <td>audi</td>\n",
       "      <td>a4</td>\n",
       "      <td>1.8</td>\n",
       "      <td>1999</td>\n",
       "      <td>4</td>\n",
       "      <td>manual(m5)</td>\n",
       "      <td>f</td>\n",
       "      <td>21</td>\n",
       "      <td>29</td>\n",
       "      <td>p</td>\n",
       "      <td>compact</td>\n",
       "    </tr>\n",
       "    <tr>\n",
       "      <th>3</th>\n",
       "      <td>audi</td>\n",
       "      <td>a4</td>\n",
       "      <td>2.0</td>\n",
       "      <td>2008</td>\n",
       "      <td>4</td>\n",
       "      <td>manual(m6)</td>\n",
       "      <td>f</td>\n",
       "      <td>20</td>\n",
       "      <td>31</td>\n",
       "      <td>p</td>\n",
       "      <td>compact</td>\n",
       "    </tr>\n",
       "    <tr>\n",
       "      <th>4</th>\n",
       "      <td>audi</td>\n",
       "      <td>a4</td>\n",
       "      <td>2.0</td>\n",
       "      <td>2008</td>\n",
       "      <td>4</td>\n",
       "      <td>auto(av)</td>\n",
       "      <td>f</td>\n",
       "      <td>21</td>\n",
       "      <td>30</td>\n",
       "      <td>p</td>\n",
       "      <td>compact</td>\n",
       "    </tr>\n",
       "    <tr>\n",
       "      <th>5</th>\n",
       "      <td>audi</td>\n",
       "      <td>a4</td>\n",
       "      <td>2.8</td>\n",
       "      <td>1999</td>\n",
       "      <td>6</td>\n",
       "      <td>auto(l5)</td>\n",
       "      <td>f</td>\n",
       "      <td>16</td>\n",
       "      <td>26</td>\n",
       "      <td>p</td>\n",
       "      <td>compact</td>\n",
       "    </tr>\n",
       "  </tbody>\n",
       "</table>\n",
       "</div>"
      ],
      "text/plain": [
       "  manufacturer model  displ  year  cyl       trans drv  cty  hwy fl    class\n",
       "1         audi    a4    1.8  1999    4    auto(l5)   f   18   29  p  compact\n",
       "2         audi    a4    1.8  1999    4  manual(m5)   f   21   29  p  compact\n",
       "3         audi    a4    2.0  2008    4  manual(m6)   f   20   31  p  compact\n",
       "4         audi    a4    2.0  2008    4    auto(av)   f   21   30  p  compact\n",
       "5         audi    a4    2.8  1999    6    auto(l5)   f   16   26  p  compact"
      ]
     },
     "execution_count": 18,
     "metadata": {},
     "output_type": "execute_result"
    }
   ],
   "source": [
    "# mpg = sns.load_dataset('mpg') this dataset is difference from pydataset\n",
    "mpg = data('mpg')\n",
    "mpg.head()"
   ]
  },
  {
   "cell_type": "code",
   "execution_count": 20,
   "id": "22d006ee",
   "metadata": {},
   "outputs": [
    {
     "data": {
      "text/html": [
       "<div>\n",
       "<style scoped>\n",
       "    .dataframe tbody tr th:only-of-type {\n",
       "        vertical-align: middle;\n",
       "    }\n",
       "\n",
       "    .dataframe tbody tr th {\n",
       "        vertical-align: top;\n",
       "    }\n",
       "\n",
       "    .dataframe thead th {\n",
       "        text-align: right;\n",
       "    }\n",
       "</style>\n",
       "<table border=\"1\" class=\"dataframe\">\n",
       "  <thead>\n",
       "    <tr style=\"text-align: right;\">\n",
       "      <th></th>\n",
       "      <th>manufacturer</th>\n",
       "      <th>model</th>\n",
       "      <th>displ</th>\n",
       "      <th>year</th>\n",
       "      <th>cyl</th>\n",
       "      <th>trans</th>\n",
       "      <th>drv</th>\n",
       "      <th>cty</th>\n",
       "      <th>hwy</th>\n",
       "      <th>fl</th>\n",
       "      <th>class</th>\n",
       "      <th>average_mileage</th>\n",
       "    </tr>\n",
       "  </thead>\n",
       "  <tbody>\n",
       "    <tr>\n",
       "      <th>1</th>\n",
       "      <td>audi</td>\n",
       "      <td>a4</td>\n",
       "      <td>1.8</td>\n",
       "      <td>1999</td>\n",
       "      <td>4</td>\n",
       "      <td>auto(l5)</td>\n",
       "      <td>f</td>\n",
       "      <td>18</td>\n",
       "      <td>29</td>\n",
       "      <td>p</td>\n",
       "      <td>compact</td>\n",
       "      <td>23.5</td>\n",
       "    </tr>\n",
       "    <tr>\n",
       "      <th>2</th>\n",
       "      <td>audi</td>\n",
       "      <td>a4</td>\n",
       "      <td>1.8</td>\n",
       "      <td>1999</td>\n",
       "      <td>4</td>\n",
       "      <td>manual(m5)</td>\n",
       "      <td>f</td>\n",
       "      <td>21</td>\n",
       "      <td>29</td>\n",
       "      <td>p</td>\n",
       "      <td>compact</td>\n",
       "      <td>25.0</td>\n",
       "    </tr>\n",
       "    <tr>\n",
       "      <th>3</th>\n",
       "      <td>audi</td>\n",
       "      <td>a4</td>\n",
       "      <td>2.0</td>\n",
       "      <td>2008</td>\n",
       "      <td>4</td>\n",
       "      <td>manual(m6)</td>\n",
       "      <td>f</td>\n",
       "      <td>20</td>\n",
       "      <td>31</td>\n",
       "      <td>p</td>\n",
       "      <td>compact</td>\n",
       "      <td>25.5</td>\n",
       "    </tr>\n",
       "    <tr>\n",
       "      <th>4</th>\n",
       "      <td>audi</td>\n",
       "      <td>a4</td>\n",
       "      <td>2.0</td>\n",
       "      <td>2008</td>\n",
       "      <td>4</td>\n",
       "      <td>auto(av)</td>\n",
       "      <td>f</td>\n",
       "      <td>21</td>\n",
       "      <td>30</td>\n",
       "      <td>p</td>\n",
       "      <td>compact</td>\n",
       "      <td>25.5</td>\n",
       "    </tr>\n",
       "    <tr>\n",
       "      <th>5</th>\n",
       "      <td>audi</td>\n",
       "      <td>a4</td>\n",
       "      <td>2.8</td>\n",
       "      <td>1999</td>\n",
       "      <td>6</td>\n",
       "      <td>auto(l5)</td>\n",
       "      <td>f</td>\n",
       "      <td>16</td>\n",
       "      <td>26</td>\n",
       "      <td>p</td>\n",
       "      <td>compact</td>\n",
       "      <td>21.0</td>\n",
       "    </tr>\n",
       "  </tbody>\n",
       "</table>\n",
       "</div>"
      ],
      "text/plain": [
       "  manufacturer model  displ  year  cyl       trans drv  cty  hwy fl    class  \\\n",
       "1         audi    a4    1.8  1999    4    auto(l5)   f   18   29  p  compact   \n",
       "2         audi    a4    1.8  1999    4  manual(m5)   f   21   29  p  compact   \n",
       "3         audi    a4    2.0  2008    4  manual(m6)   f   20   31  p  compact   \n",
       "4         audi    a4    2.0  2008    4    auto(av)   f   21   30  p  compact   \n",
       "5         audi    a4    2.8  1999    6    auto(l5)   f   16   26  p  compact   \n",
       "\n",
       "   average_mileage  \n",
       "1             23.5  \n",
       "2             25.0  \n",
       "3             25.5  \n",
       "4             25.5  \n",
       "5             21.0  "
      ]
     },
     "execution_count": 20,
     "metadata": {},
     "output_type": "execute_result"
    }
   ],
   "source": [
    "mpg[\"average_mileage\"] = (mpg.hwy + mpg.cty) / 2\n",
    "mpg.head()"
   ]
  },
  {
   "cell_type": "code",
   "execution_count": 30,
   "id": "e7e820bf",
   "metadata": {},
   "outputs": [],
   "source": [
    "cars_2008 = mpg.average_mileage[mpg.year == 2008]\n",
    "cars_1999 = mpg.average_mileage[mpg.year == 1999]"
   ]
  },
  {
   "cell_type": "code",
   "execution_count": 47,
   "id": "1a9c5d72",
   "metadata": {},
   "outputs": [
    {
     "data": {
      "text/plain": [
       "(27.122605363984682, 24.097480106100797)"
      ]
     },
     "execution_count": 47,
     "metadata": {},
     "output_type": "execute_result"
    }
   ],
   "source": [
    "cars_1999.var(),cars_2008.var() # Variances comparason between 1999 and 2008 model"
   ]
  },
  {
   "cell_type": "code",
   "execution_count": 46,
   "id": "aaa47848",
   "metadata": {},
   "outputs": [
    {
     "data": {
      "text/plain": [
       "(20.22222222222222, 20.076923076923077)"
      ]
     },
     "execution_count": 46,
     "metadata": {},
     "output_type": "execute_result"
    }
   ],
   "source": [
    "cars_1999.mean(),cars_2008.mean()"
   ]
  },
  {
   "cell_type": "code",
   "execution_count": 32,
   "id": "6736f743",
   "metadata": {},
   "outputs": [],
   "source": [
    "α = 0.05"
   ]
  },
  {
   "cell_type": "code",
   "execution_count": 45,
   "id": "6c03b08d",
   "metadata": {},
   "outputs": [
    {
     "data": {
      "text/plain": [
       "(0.21960177245940962, 0.8263750772060638, 0.05)"
      ]
     },
     "execution_count": 45,
     "metadata": {},
     "output_type": "execute_result"
    }
   ],
   "source": [
    "t, p = stats.ttest_ind(cars_1999, cars_2008, equal_var=False)\n",
    "t, p, α"
   ]
  },
  {
   "cell_type": "code",
   "execution_count": 35,
   "id": "5fa5ba11",
   "metadata": {},
   "outputs": [
    {
     "data": {
      "image/png": "[encoded data removed]",
      "text/plain": [
       "<Figure size 432x288 with 1 Axes>"
      ]
     },
     "metadata": {
      "needs_background": "light"
     },
     "output_type": "display_data"
    }
   ],
   "source": [
    "cars_1999.hist()\n",
    "plt.grid(False)"
   ]
  },
  {
   "cell_type": "code",
   "execution_count": 36,
   "id": "647b8b1f",
   "metadata": {},
   "outputs": [
    {
     "data": {
      "image/png": "[encoded data removed]",
      "text/plain": [
       "<Figure size 432x288 with 1 Axes>"
      ]
     },
     "metadata": {
      "needs_background": "light"
     },
     "output_type": "display_data"
    }
   ],
   "source": [
    "cars_2008.hist()\n",
    "plt.grid(False)"
   ]
  },
  {
   "cell_type": "code",
   "execution_count": 55,
   "id": "4aa665d1",
   "metadata": {},
   "outputs": [
    {
     "data": {
      "text/plain": [
       "<matplotlib.legend.Legend at 0x7fdcdb8c6f10>"
      ]
     },
     "execution_count": 55,
     "metadata": {},
     "output_type": "execute_result"
    },
    {
     "data": {
      "image/png": "[encoded data removed]",
      "text/plain": [
       "<Figure size 432x288 with 1 Axes>"
      ]
     },
     "metadata": {
      "needs_background": "light"
     },
     "output_type": "display_data"
    }
   ],
   "source": [
    "plt.hist([cars_1999, cars_2008], label = [\"1999 models\", \"2008 models\"])\n",
    "plt.legend(loc='upper right')"
   ]
  },
  {
   "cell_type": "code",
   "execution_count": 56,
   "id": "268ac6bd",
   "metadata": {},
   "outputs": [
    {
     "name": "stdout",
     "output_type": "stream",
     "text": [
      "We failed to reject the null hypothesis\n"
     ]
    }
   ],
   "source": [
    "if p < α:\n",
    "    print (\"We reject the null hypothesis\")\n",
    "else:\n",
    "    print(\"We failed to reject the null hypothesis\")"
   ]
  },
  {
   "cell_type": "markdown",
   "id": "15cb3fc4",
   "metadata": {},
   "source": [
    "# Are compact cars more fuel-efficient than the average car?"
   ]
  },
  {
   "cell_type": "markdown",
   "id": "ecc50fae",
   "metadata": {},
   "source": [
    "- H0: There is not a difference in fuel-efficiency between compact cars and the average car\n",
    "- Ha: Compact cars are more fuel-efficient than the average"
   ]
  },
  {
   "cell_type": "code",
   "execution_count": 57,
   "id": "7f533844",
   "metadata": {},
   "outputs": [
    {
     "data": {
      "text/html": [
       "<div>\n",
       "<style scoped>\n",
       "    .dataframe tbody tr th:only-of-type {\n",
       "        vertical-align: middle;\n",
       "    }\n",
       "\n",
       "    .dataframe tbody tr th {\n",
       "        vertical-align: top;\n",
       "    }\n",
       "\n",
       "    .dataframe thead th {\n",
       "        text-align: right;\n",
       "    }\n",
       "</style>\n",
       "<table border=\"1\" class=\"dataframe\">\n",
       "  <thead>\n",
       "    <tr style=\"text-align: right;\">\n",
       "      <th></th>\n",
       "      <th>manufacturer</th>\n",
       "      <th>model</th>\n",
       "      <th>displ</th>\n",
       "      <th>year</th>\n",
       "      <th>cyl</th>\n",
       "      <th>trans</th>\n",
       "      <th>drv</th>\n",
       "      <th>cty</th>\n",
       "      <th>hwy</th>\n",
       "      <th>fl</th>\n",
       "      <th>class</th>\n",
       "      <th>average_mileage</th>\n",
       "    </tr>\n",
       "  </thead>\n",
       "  <tbody>\n",
       "    <tr>\n",
       "      <th>1</th>\n",
       "      <td>audi</td>\n",
       "      <td>a4</td>\n",
       "      <td>1.8</td>\n",
       "      <td>1999</td>\n",
       "      <td>4</td>\n",
       "      <td>auto(l5)</td>\n",
       "      <td>f</td>\n",
       "      <td>18</td>\n",
       "      <td>29</td>\n",
       "      <td>p</td>\n",
       "      <td>compact</td>\n",
       "      <td>23.5</td>\n",
       "    </tr>\n",
       "    <tr>\n",
       "      <th>2</th>\n",
       "      <td>audi</td>\n",
       "      <td>a4</td>\n",
       "      <td>1.8</td>\n",
       "      <td>1999</td>\n",
       "      <td>4</td>\n",
       "      <td>manual(m5)</td>\n",
       "      <td>f</td>\n",
       "      <td>21</td>\n",
       "      <td>29</td>\n",
       "      <td>p</td>\n",
       "      <td>compact</td>\n",
       "      <td>25.0</td>\n",
       "    </tr>\n",
       "    <tr>\n",
       "      <th>3</th>\n",
       "      <td>audi</td>\n",
       "      <td>a4</td>\n",
       "      <td>2.0</td>\n",
       "      <td>2008</td>\n",
       "      <td>4</td>\n",
       "      <td>manual(m6)</td>\n",
       "      <td>f</td>\n",
       "      <td>20</td>\n",
       "      <td>31</td>\n",
       "      <td>p</td>\n",
       "      <td>compact</td>\n",
       "      <td>25.5</td>\n",
       "    </tr>\n",
       "    <tr>\n",
       "      <th>4</th>\n",
       "      <td>audi</td>\n",
       "      <td>a4</td>\n",
       "      <td>2.0</td>\n",
       "      <td>2008</td>\n",
       "      <td>4</td>\n",
       "      <td>auto(av)</td>\n",
       "      <td>f</td>\n",
       "      <td>21</td>\n",
       "      <td>30</td>\n",
       "      <td>p</td>\n",
       "      <td>compact</td>\n",
       "      <td>25.5</td>\n",
       "    </tr>\n",
       "    <tr>\n",
       "      <th>5</th>\n",
       "      <td>audi</td>\n",
       "      <td>a4</td>\n",
       "      <td>2.8</td>\n",
       "      <td>1999</td>\n",
       "      <td>6</td>\n",
       "      <td>auto(l5)</td>\n",
       "      <td>f</td>\n",
       "      <td>16</td>\n",
       "      <td>26</td>\n",
       "      <td>p</td>\n",
       "      <td>compact</td>\n",
       "      <td>21.0</td>\n",
       "    </tr>\n",
       "  </tbody>\n",
       "</table>\n",
       "</div>"
      ],
      "text/plain": [
       "  manufacturer model  displ  year  cyl       trans drv  cty  hwy fl    class  \\\n",
       "1         audi    a4    1.8  1999    4    auto(l5)   f   18   29  p  compact   \n",
       "2         audi    a4    1.8  1999    4  manual(m5)   f   21   29  p  compact   \n",
       "3         audi    a4    2.0  2008    4  manual(m6)   f   20   31  p  compact   \n",
       "4         audi    a4    2.0  2008    4    auto(av)   f   21   30  p  compact   \n",
       "5         audi    a4    2.8  1999    6    auto(l5)   f   16   26  p  compact   \n",
       "\n",
       "   average_mileage  \n",
       "1             23.5  \n",
       "2             25.0  \n",
       "3             25.5  \n",
       "4             25.5  \n",
       "5             21.0  "
      ]
     },
     "execution_count": 57,
     "metadata": {},
     "output_type": "execute_result"
    }
   ],
   "source": [
    "mpg.head()"
   ]
  },
  {
   "cell_type": "code",
   "execution_count": 58,
   "id": "3c45c4fa",
   "metadata": {},
   "outputs": [],
   "source": [
    "compact = mpg.average_mileage[mpg[\"class\"] == \"compact\"]"
   ]
  },
  {
   "cell_type": "code",
   "execution_count": 63,
   "id": "9b90d07f",
   "metadata": {},
   "outputs": [
    {
     "data": {
      "text/plain": [
       "(47,)"
      ]
     },
     "execution_count": 63,
     "metadata": {},
     "output_type": "execute_result"
    }
   ],
   "source": [
    "compact.shape"
   ]
  },
  {
   "cell_type": "code",
   "execution_count": 64,
   "id": "74cc9f4f",
   "metadata": {},
   "outputs": [],
   "source": [
    "average_car = mpg['average_mileage'].mean()"
   ]
  },
  {
   "cell_type": "code",
   "execution_count": 70,
   "id": "de7d963d",
   "metadata": {},
   "outputs": [
    {
     "data": {
      "text/plain": [
       "(7.896888573132535, 2.0992818971585668e-10, 0.05)"
      ]
     },
     "execution_count": 70,
     "metadata": {},
     "output_type": "execute_result"
    }
   ],
   "source": [
    "t, p = stats.ttest_1samp(compact,average_car)\n",
    "t, p/2, α"
   ]
  },
  {
   "cell_type": "code",
   "execution_count": 72,
   "id": "28999206",
   "metadata": {},
   "outputs": [
    {
     "name": "stdout",
     "output_type": "stream",
     "text": [
      "We reject the null hypothesis\n"
     ]
    }
   ],
   "source": [
    "if (p/2 < α) & (t > 0):\n",
    "    print(\"We reject the null hypothesis\")\n",
    "else:\n",
    "    print(\"We fail to reject the null hypothesis\")"
   ]
  },
  {
   "cell_type": "markdown",
   "id": "3d467f95",
   "metadata": {},
   "source": [
    "# Do manual cars get better gas mileage than automatic cars?"
   ]
  },
  {
   "cell_type": "markdown",
   "id": "b2a4fd4c",
   "metadata": {},
   "source": [
    "- H0 = There is no difference in average gas mileage between manual and automatic trabsmission cars \n",
    "- Ha = the fuel-efficiency in manual cars are better than automatic transmission cars"
   ]
  },
  {
   "cell_type": "code",
   "execution_count": 75,
   "id": "70835d7e",
   "metadata": {},
   "outputs": [],
   "source": [
    "manual_cars = mpg['average_mileage'][mpg.trans.str.contains('manual')]\n",
    "auto_cars = mpg['average_mileage'][mpg.trans.str.contains('auto')]"
   ]
  },
  {
   "cell_type": "code",
   "execution_count": 81,
   "id": "df12f8b3",
   "metadata": {},
   "outputs": [],
   "source": [
    "α = 0.05"
   ]
  },
  {
   "cell_type": "code",
   "execution_count": 77,
   "id": "4c5f9370",
   "metadata": {},
   "outputs": [
    {
     "data": {
      "text/plain": [
       "(21.942777233382337, 26.635167464114826)"
      ]
     },
     "execution_count": 77,
     "metadata": {},
     "output_type": "execute_result"
    }
   ],
   "source": [
    "auto_cars.var(), manual_cars.var()"
   ]
  },
  {
   "cell_type": "code",
   "execution_count": 83,
   "id": "4ae6c7af",
   "metadata": {},
   "outputs": [
    {
     "data": {
      "text/plain": [
       "(4.593437735750014, 3.5771872005728416e-06, 0.05)"
      ]
     },
     "execution_count": 83,
     "metadata": {},
     "output_type": "execute_result"
    }
   ],
   "source": [
    "t, p = stats.ttest_ind(manual_cars, auto_cars)\n",
    "t, p/2, α"
   ]
  },
  {
   "cell_type": "code",
   "execution_count": 84,
   "id": "d817c1ab",
   "metadata": {},
   "outputs": [
    {
     "name": "stdout",
     "output_type": "stream",
     "text": [
      "We reject the null hypothesis\n"
     ]
    }
   ],
   "source": [
    "if (p/2 < α) & (t > 0):\n",
    "    print(\"We reject the null hypothesis\")\n",
    "else:\n",
    "    print(\"We fail to reject the null hypothesis\")"
   ]
  },
  {
   "cell_type": "code",
   "execution_count": null,
   "id": "77b02ca7",
   "metadata": {},
   "outputs": [],
   "source": []
  }
 ],
 "metadata": {
  "kernelspec": {
   "display_name": "Python 3 (ipykernel)",
   "language": "python",
   "name": "python3"
  },
  "language_info": {
   "codemirror_mode": {
    "name": "ipython",
    "version": 3
   },
   "file_extension": ".py",
   "mimetype": "text/x-python",
   "name": "python",
   "nbconvert_exporter": "python",
   "pygments_lexer": "ipython3",
   "version": "3.9.7"
  }
 },
 "nbformat": 4,
 "nbformat_minor": 5
}
