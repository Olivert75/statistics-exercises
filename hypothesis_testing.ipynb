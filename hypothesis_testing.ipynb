{
 "cells": [
  {
   "cell_type": "markdown",
   "id": "19644389",
   "metadata": {},
   "source": [
    "# For each of the following questions, formulate a null and alternative hypothesis (be as specific as you can be), then give an example of what a true positive, true negative, type I and type II errors would look like. Note that some of the questions are intentionally phrased in a vague way. It is your job to reword these as more precise questions that could be tested."
   ]
  },
  {
   "cell_type": "markdown",
   "id": "dcb7ae25",
   "metadata": {},
   "source": [
    "# Has the network latency gone up since we switched internet service providers?"
   ]
  },
  {
   "cell_type": "markdown",
   "id": "bfbcec7a",
   "metadata": {},
   "source": [
    "H0: There is not a significant difference in the network latency with different internet providers\n",
    "\n",
    "H1: There is a significat increase in the network latency with different internet providers\n",
    "\n",
    "type I error = I reject there is not a significant difference in the network latency with different internet providers but in reality there is not a significant\n",
    "\n",
    "type II error = I fail to reject the null hypothesis (There is not a significant difference in the network latency with different internet providers) when it is actually false that means There is a significat increase in the network latency with different internet providers."
   ]
  },
  {
   "cell_type": "markdown",
   "id": "7d352b8d",
   "metadata": {},
   "source": [
    "# Is the website redesign any good?"
   ]
  },
  {
   "cell_type": "markdown",
   "id": "91e5ddb9",
   "metadata": {},
   "source": [
    "H0: the website redesign does not increase revenue\n",
    "\n",
    "H1: :the website redesign increases revenue\n",
    "\n",
    "type I error : I reject the null hypothesis( the website redesign does not increase revenue) but it is acually true\n",
    "\n",
    "type II error: I fail to reject the null hypothesis (the website redesign does not increase revenue) but acually the website redesign increases revenue"
   ]
  },
  {
   "cell_type": "markdown",
   "id": "0643ca8b",
   "metadata": {},
   "source": [
    "# Is our television ad driving more sales?"
   ]
  },
  {
   "cell_type": "markdown",
   "id": "17b04dbd",
   "metadata": {},
   "source": [
    "H0: the television add does not change sales\n",
    "\n",
    "H1: the television ad increases sales\n",
    "\n",
    "type I error : I reject the null hypothesis (television ad increase sales), but, in reality television add does not change sales\n",
    "\n",
    "type II error : I fail to reject the null hypothesis (television ad increase sales) when it is actually false."
   ]
  },
  {
   "cell_type": "markdown",
   "id": "113d8a31",
   "metadata": {},
   "source": [
    "# T-test exercises"
   ]
  },
  {
   "cell_type": "markdown",
   "id": "9789de75",
   "metadata": {},
   "source": [
    "# Ace Realty wants to determine whether the average time it takes to sell homes is different for its two offices. A sample of 40 sales from office #1 revealed a mean of 90 days and a standard deviation of 15 days. A sample of 50 sales from office #2 revealed a mean of 100 days and a standard deviation of 20 days. Use a .05 level of significance."
   ]
  },
  {
   "cell_type": "code",
   "execution_count": null,
   "id": "d6637fdd",
   "metadata": {},
   "outputs": [],
   "source": []
  }
 ],
 "metadata": {
  "kernelspec": {
   "display_name": "Python 3 (ipykernel)",
   "language": "python",
   "name": "python3"
  },
  "language_info": {
   "codemirror_mode": {
    "name": "ipython",
    "version": 3
   },
   "file_extension": ".py",
   "mimetype": "text/x-python",
   "name": "python",
   "nbconvert_exporter": "python",
   "pygments_lexer": "ipython3",
   "version": "3.9.7"
  }
 },
 "nbformat": 4,
 "nbformat_minor": 5
}
