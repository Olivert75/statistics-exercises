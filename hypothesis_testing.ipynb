{
 "cells": [
  {
   "cell_type": "markdown",
   "id": "19644389",
   "metadata": {},
   "source": [
    "# For each of the following questions, formulate a null and alternative hypothesis (be as specific as you can be), then give an example of what a true positive, true negative, type I and type II errors would look like. Note that some of the questions are intentionally phrased in a vague way. It is your job to reword these as more precise questions that could be tested."
   ]
  },
  {
   "cell_type": "markdown",
   "id": "dcb7ae25",
   "metadata": {},
   "source": [
    "# Has the network latency gone up since we switched internet service providers?"
   ]
  },
  {
   "cell_type": "markdown",
   "id": "bfbcec7a",
   "metadata": {},
   "source": [
    "H0: There is not a significant difference in the network latency with different internet providers\n",
    "\n",
    "H1: There is a significat increase in the network latency with different internet providers\n",
    "\n",
    "type I error = I reject there is not a significant difference in the network latency with different internet providers but in reality there is not a significant\n",
    "\n",
    "type II error = I fail to reject the null hypothesis (There is not a significant difference in the network latency with different internet providers) when it is actually false that means There is a significat increase in the network latency with different internet providers."
   ]
  },
  {
   "cell_type": "markdown",
   "id": "7d352b8d",
   "metadata": {},
   "source": [
    "# Is the website redesign any good?"
   ]
  },
  {
   "cell_type": "markdown",
   "id": "91e5ddb9",
   "metadata": {},
   "source": [
    "H0: the website redesign does not increase revenue\n",
    "\n",
    "H1: :the website redesign increases revenue\n",
    "\n",
    "type I error : I reject the null hypothesis( the website redesign does not increase revenue) but it is acually true\n",
    "\n",
    "type II error: I fail to reject the null hypothesis (the website redesign does not increase revenue) but acually the website redesign increases revenue"
   ]
  },
  {
   "cell_type": "markdown",
   "id": "0643ca8b",
   "metadata": {},
   "source": [
    "# Is our television ad driving more sales?"
   ]
  },
  {
   "cell_type": "markdown",
   "id": "17b04dbd",
   "metadata": {},
   "source": [
    "H0: the television add does not change sales\n",
    "\n",
    "H1: the television ad increases sales\n",
    "\n",
    "type I error : I reject the null hypothesis (television ad increase sales), but, in reality television add does not change sales\n",
    "\n",
    "type II error : I fail to reject the null hypothesis (television ad increase sales) when it is actually false."
   ]
  },
  {
   "cell_type": "markdown",
   "id": "fde28516",
   "metadata": {},
   "source": [
    "# T-test exercises"
   ]
  },
  {
   "cell_type": "code",
   "execution_count": 85,
   "id": "d80fae06",
   "metadata": {},
   "outputs": [],
   "source": [
    "import numpy as np\n",
    "import seaborn as sns\n",
    "import pandas as pd\n",
    "import scipy.stats as stats\n",
    "import matplotlib.pyplot as plt\n",
    "from pydataset import data"
   ]
  },
  {
   "cell_type": "markdown",
   "id": "ef28da9d",
   "metadata": {},
   "source": [
    "# Ace Realty wants to determine whether the average time it takes to sell homes is different for its two offices. A sample of 40 sales from office #1 revealed a mean of 90 days and a standard deviation of 15 days. A sample of 50 sales from office #2 revealed a mean of 100 days and a standard deviation of 20 days. Use a .05 level of significance."
   ]
  },
  {
   "cell_type": "markdown",
   "id": "1f9fa035",
   "metadata": {},
   "source": [
    "- H0: Mean days to sell for office 1 same as mean days to sell for office 2\n",
    "- Ha: Mean days to sell for office 1 is difference in mean days to sell for office 2"
   ]
  },
  {
   "cell_type": "code",
   "execution_count": 13,
   "id": "f5fc0c93",
   "metadata": {},
   "outputs": [],
   "source": [
    "#Two Samples\n",
    "\n",
    "store_1 = 40\n",
    "mean1 = 90\n",
    "std1 = 15\n",
    "\n",
    "store_2 = 50\n",
    "mean2 = 100\n",
    "std2 = 20\n",
    "\n",
    "#Level of significance\n",
    "α = 0.05"
   ]
  },
  {
   "cell_type": "code",
   "execution_count": 14,
   "id": "888e98f7",
   "metadata": {},
   "outputs": [
    {
     "data": {
      "text/plain": [
       "<matplotlib.legend.Legend at 0x7fae7077d1c0>"
      ]
     },
     "execution_count": 14,
     "metadata": {},
     "output_type": "execute_result"
    },
    {
     "data": {
      "image/png": "[encoded data removed]",
      "text/plain": [
       "<Figure size 432x288 with 1 Axes>"
      ]
     },
     "metadata": {
      "needs_background": "light"
     },
     "output_type": "display_data"
    }
   ],
   "source": [
    "# Visualize two distribution:\n",
    "\n",
    "x = np.arange(50,150)\n",
    "\n",
    "y1 = stats.norm(mean1,std1).pdf(x)\n",
    "y2 = stats.norm(mean2, std2).pdf(x)\n",
    "\n",
    "plt.plot(x, y1, label = 'office 1')\n",
    "plt.plot(x, y2, label = 'office 2')\n",
    "plt.axvline(mean1, ls = ':')\n",
    "plt.axvline(mean2, ls = ':', color = 'orange')\n",
    "\n",
    "plt.legend()"
   ]
  },
  {
   "cell_type": "code",
   "execution_count": 8,
   "id": "e8410dbb",
   "metadata": {},
   "outputs": [
    {
     "data": {
      "text/plain": [
       "(-2.7091418459143854, 0.00811206270346016)"
      ]
     },
     "execution_count": 8,
     "metadata": {},
     "output_type": "execute_result"
    }
   ],
   "source": [
    "t, p = stats.ttest_ind_from_stats(mean1, std1, store_1, mean2, std2, store_2, equal_var=False)\n",
    "t, p"
   ]
  },
  {
   "cell_type": "code",
   "execution_count": 9,
   "id": "5211651e",
   "metadata": {},
   "outputs": [
    {
     "name": "stdout",
     "output_type": "stream",
     "text": [
      "We reject the null hypothesis\n"
     ]
    }
   ],
   "source": [
    "if p < α:\n",
    "    print (\"We reject the null hypothesis\")\n",
    "else:\n",
    "    print (\"We failed to reject the null hypothesis\")"
   ]
  },
  {
   "cell_type": "markdown",
   "id": "6901f8d3",
   "metadata": {},
   "source": [
    "# Load the mpg dataset and use it to answer the following questions:\n",
    "# Is there a difference in fuel-efficiency in cars from 2008 vs 1999?"
   ]
  },
  {
   "cell_type": "markdown",
   "id": "4a8dd1dc",
   "metadata": {},
   "source": [
    "- H0: There is not a difference in fuel-efficiency in cars from 2008 to 1999\n",
    "- Ha: There is a significant difference in fuel-efficiency in cars from 2008 to 1999"
   ]
  },
  {
   "cell_type": "code",
   "execution_count": 3,
   "id": "c880e8ce",
   "metadata": {},
   "outputs": [
    {
     "data": {
      "text/html": [
       "<div>\n",
       "<style scoped>\n",
       "    .dataframe tbody tr th:only-of-type {\n",
       "        vertical-align: middle;\n",
       "    }\n",
       "\n",
       "    .dataframe tbody tr th {\n",
       "        vertical-align: top;\n",
       "    }\n",
       "\n",
       "    .dataframe thead th {\n",
       "        text-align: right;\n",
       "    }\n",
       "</style>\n",
       "<table border=\"1\" class=\"dataframe\">\n",
       "  <thead>\n",
       "    <tr style=\"text-align: right;\">\n",
       "      <th></th>\n",
       "      <th>manufacturer</th>\n",
       "      <th>model</th>\n",
       "      <th>displ</th>\n",
       "      <th>year</th>\n",
       "      <th>cyl</th>\n",
       "      <th>trans</th>\n",
       "      <th>drv</th>\n",
       "      <th>cty</th>\n",
       "      <th>hwy</th>\n",
       "      <th>fl</th>\n",
       "      <th>class</th>\n",
       "    </tr>\n",
       "  </thead>\n",
       "  <tbody>\n",
       "    <tr>\n",
       "      <th>1</th>\n",
       "      <td>audi</td>\n",
       "      <td>a4</td>\n",
       "      <td>1.8</td>\n",
       "      <td>1999</td>\n",
       "      <td>4</td>\n",
       "      <td>auto(l5)</td>\n",
       "      <td>f</td>\n",
       "      <td>18</td>\n",
       "      <td>29</td>\n",
       "      <td>p</td>\n",
       "      <td>compact</td>\n",
       "    </tr>\n",
       "    <tr>\n",
       "      <th>2</th>\n",
       "      <td>audi</td>\n",
       "      <td>a4</td>\n",
       "      <td>1.8</td>\n",
       "      <td>1999</td>\n",
       "      <td>4</td>\n",
       "      <td>manual(m5)</td>\n",
       "      <td>f</td>\n",
       "      <td>21</td>\n",
       "      <td>29</td>\n",
       "      <td>p</td>\n",
       "      <td>compact</td>\n",
       "    </tr>\n",
       "    <tr>\n",
       "      <th>3</th>\n",
       "      <td>audi</td>\n",
       "      <td>a4</td>\n",
       "      <td>2.0</td>\n",
       "      <td>2008</td>\n",
       "      <td>4</td>\n",
       "      <td>manual(m6)</td>\n",
       "      <td>f</td>\n",
       "      <td>20</td>\n",
       "      <td>31</td>\n",
       "      <td>p</td>\n",
       "      <td>compact</td>\n",
       "    </tr>\n",
       "    <tr>\n",
       "      <th>4</th>\n",
       "      <td>audi</td>\n",
       "      <td>a4</td>\n",
       "      <td>2.0</td>\n",
       "      <td>2008</td>\n",
       "      <td>4</td>\n",
       "      <td>auto(av)</td>\n",
       "      <td>f</td>\n",
       "      <td>21</td>\n",
       "      <td>30</td>\n",
       "      <td>p</td>\n",
       "      <td>compact</td>\n",
       "    </tr>\n",
       "    <tr>\n",
       "      <th>5</th>\n",
       "      <td>audi</td>\n",
       "      <td>a4</td>\n",
       "      <td>2.8</td>\n",
       "      <td>1999</td>\n",
       "      <td>6</td>\n",
       "      <td>auto(l5)</td>\n",
       "      <td>f</td>\n",
       "      <td>16</td>\n",
       "      <td>26</td>\n",
       "      <td>p</td>\n",
       "      <td>compact</td>\n",
       "    </tr>\n",
       "  </tbody>\n",
       "</table>\n",
       "</div>"
      ],
      "text/plain": [
       "  manufacturer model  displ  year  cyl       trans drv  cty  hwy fl    class\n",
       "1         audi    a4    1.8  1999    4    auto(l5)   f   18   29  p  compact\n",
       "2         audi    a4    1.8  1999    4  manual(m5)   f   21   29  p  compact\n",
       "3         audi    a4    2.0  2008    4  manual(m6)   f   20   31  p  compact\n",
       "4         audi    a4    2.0  2008    4    auto(av)   f   21   30  p  compact\n",
       "5         audi    a4    2.8  1999    6    auto(l5)   f   16   26  p  compact"
      ]
     },
     "execution_count": 3,
     "metadata": {},
     "output_type": "execute_result"
    }
   ],
   "source": [
    "# mpg = sns.load_dataset('mpg') this dataset is difference from pydataset\n",
    "mpg = data('mpg')\n",
    "mpg.head()"
   ]
  },
  {
   "cell_type": "code",
   "execution_count": 5,
   "id": "22d006ee",
   "metadata": {},
   "outputs": [
    {
     "data": {
      "text/html": [
       "<div>\n",
       "<style scoped>\n",
       "    .dataframe tbody tr th:only-of-type {\n",
       "        vertical-align: middle;\n",
       "    }\n",
       "\n",
       "    .dataframe tbody tr th {\n",
       "        vertical-align: top;\n",
       "    }\n",
       "\n",
       "    .dataframe thead th {\n",
       "        text-align: right;\n",
       "    }\n",
       "</style>\n",
       "<table border=\"1\" class=\"dataframe\">\n",
       "  <thead>\n",
       "    <tr style=\"text-align: right;\">\n",
       "      <th></th>\n",
       "      <th>manufacturer</th>\n",
       "      <th>model</th>\n",
       "      <th>displ</th>\n",
       "      <th>year</th>\n",
       "      <th>cyl</th>\n",
       "      <th>trans</th>\n",
       "      <th>drv</th>\n",
       "      <th>cty</th>\n",
       "      <th>hwy</th>\n",
       "      <th>fl</th>\n",
       "      <th>class</th>\n",
       "      <th>average_mileage</th>\n",
       "    </tr>\n",
       "  </thead>\n",
       "  <tbody>\n",
       "    <tr>\n",
       "      <th>1</th>\n",
       "      <td>audi</td>\n",
       "      <td>a4</td>\n",
       "      <td>1.8</td>\n",
       "      <td>1999</td>\n",
       "      <td>4</td>\n",
       "      <td>auto(l5)</td>\n",
       "      <td>f</td>\n",
       "      <td>18</td>\n",
       "      <td>29</td>\n",
       "      <td>p</td>\n",
       "      <td>compact</td>\n",
       "      <td>23.5</td>\n",
       "    </tr>\n",
       "    <tr>\n",
       "      <th>2</th>\n",
       "      <td>audi</td>\n",
       "      <td>a4</td>\n",
       "      <td>1.8</td>\n",
       "      <td>1999</td>\n",
       "      <td>4</td>\n",
       "      <td>manual(m5)</td>\n",
       "      <td>f</td>\n",
       "      <td>21</td>\n",
       "      <td>29</td>\n",
       "      <td>p</td>\n",
       "      <td>compact</td>\n",
       "      <td>25.0</td>\n",
       "    </tr>\n",
       "    <tr>\n",
       "      <th>3</th>\n",
       "      <td>audi</td>\n",
       "      <td>a4</td>\n",
       "      <td>2.0</td>\n",
       "      <td>2008</td>\n",
       "      <td>4</td>\n",
       "      <td>manual(m6)</td>\n",
       "      <td>f</td>\n",
       "      <td>20</td>\n",
       "      <td>31</td>\n",
       "      <td>p</td>\n",
       "      <td>compact</td>\n",
       "      <td>25.5</td>\n",
       "    </tr>\n",
       "    <tr>\n",
       "      <th>4</th>\n",
       "      <td>audi</td>\n",
       "      <td>a4</td>\n",
       "      <td>2.0</td>\n",
       "      <td>2008</td>\n",
       "      <td>4</td>\n",
       "      <td>auto(av)</td>\n",
       "      <td>f</td>\n",
       "      <td>21</td>\n",
       "      <td>30</td>\n",
       "      <td>p</td>\n",
       "      <td>compact</td>\n",
       "      <td>25.5</td>\n",
       "    </tr>\n",
       "    <tr>\n",
       "      <th>5</th>\n",
       "      <td>audi</td>\n",
       "      <td>a4</td>\n",
       "      <td>2.8</td>\n",
       "      <td>1999</td>\n",
       "      <td>6</td>\n",
       "      <td>auto(l5)</td>\n",
       "      <td>f</td>\n",
       "      <td>16</td>\n",
       "      <td>26</td>\n",
       "      <td>p</td>\n",
       "      <td>compact</td>\n",
       "      <td>21.0</td>\n",
       "    </tr>\n",
       "  </tbody>\n",
       "</table>\n",
       "</div>"
      ],
      "text/plain": [
       "  manufacturer model  displ  year  cyl       trans drv  cty  hwy fl    class  \\\n",
       "1         audi    a4    1.8  1999    4    auto(l5)   f   18   29  p  compact   \n",
       "2         audi    a4    1.8  1999    4  manual(m5)   f   21   29  p  compact   \n",
       "3         audi    a4    2.0  2008    4  manual(m6)   f   20   31  p  compact   \n",
       "4         audi    a4    2.0  2008    4    auto(av)   f   21   30  p  compact   \n",
       "5         audi    a4    2.8  1999    6    auto(l5)   f   16   26  p  compact   \n",
       "\n",
       "   average_mileage  \n",
       "1             23.5  \n",
       "2             25.0  \n",
       "3             25.5  \n",
       "4             25.5  \n",
       "5             21.0  "
      ]
     },
     "execution_count": 5,
     "metadata": {},
     "output_type": "execute_result"
    }
   ],
   "source": [
    "mpg[\"average_mileage\"] = (mpg.hwy + mpg.cty) / 2\n",
    "mpg.head()"
   ]
  },
  {
   "cell_type": "code",
   "execution_count": 30,
   "id": "e7e820bf",
   "metadata": {},
   "outputs": [],
   "source": [
    "cars_2008 = mpg.average_mileage[mpg.year == 2008]\n",
    "cars_1999 = mpg.average_mileage[mpg.year == 1999]"
   ]
  },
  {
   "cell_type": "code",
   "execution_count": 47,
   "id": "1a9c5d72",
   "metadata": {},
   "outputs": [
    {
     "data": {
      "text/plain": [
       "(27.122605363984682, 24.097480106100797)"
      ]
     },
     "execution_count": 47,
     "metadata": {},
     "output_type": "execute_result"
    }
   ],
   "source": [
    "cars_1999.var(),cars_2008.var() # Variances comparason between 1999 and 2008 model"
   ]
  },
  {
   "cell_type": "code",
   "execution_count": 46,
   "id": "aaa47848",
   "metadata": {},
   "outputs": [
    {
     "data": {
      "text/plain": [
       "(20.22222222222222, 20.076923076923077)"
      ]
     },
     "execution_count": 46,
     "metadata": {},
     "output_type": "execute_result"
    }
   ],
   "source": [
    "cars_1999.mean(),cars_2008.mean()"
   ]
  },
  {
   "cell_type": "code",
   "execution_count": 32,
   "id": "6736f743",
   "metadata": {},
   "outputs": [],
   "source": [
    "α = 0.05"
   ]
  },
  {
   "cell_type": "code",
   "execution_count": 45,
   "id": "6c03b08d",
   "metadata": {},
   "outputs": [
    {
     "data": {
      "text/plain": [
       "(0.21960177245940962, 0.8263750772060638, 0.05)"
      ]
     },
     "execution_count": 45,
     "metadata": {},
     "output_type": "execute_result"
    }
   ],
   "source": [
    "t, p = stats.ttest_ind(cars_1999, cars_2008, equal_var=False)\n",
    "t, p, α"
   ]
  },
  {
   "cell_type": "code",
   "execution_count": 35,
   "id": "5fa5ba11",
   "metadata": {},
   "outputs": [
    {
     "data": {
      "image/png": "[encoded data removed]",
      "text/plain": [
       "<Figure size 432x288 with 1 Axes>"
      ]
     },
     "metadata": {
      "needs_background": "light"
     },
     "output_type": "display_data"
    }
   ],
   "source": [
    "cars_1999.hist()\n",
    "plt.grid(False)"
   ]
  },
  {
   "cell_type": "code",
   "execution_count": 36,
   "id": "647b8b1f",
   "metadata": {},
   "outputs": [
    {
     "data": {
      "image/png": "[encoded data removed]",
      "text/plain": [
       "<Figure size 432x288 with 1 Axes>"
      ]
     },
     "metadata": {
      "needs_background": "light"
     },
     "output_type": "display_data"
    }
   ],
   "source": [
    "cars_2008.hist()\n",
    "plt.grid(False)"
   ]
  },
  {
   "cell_type": "code",
   "execution_count": 55,
   "id": "4aa665d1",
   "metadata": {},
   "outputs": [
    {
     "data": {
      "text/plain": [
       "<matplotlib.legend.Legend at 0x7fdcdb8c6f10>"
      ]
     },
     "execution_count": 55,
     "metadata": {},
     "output_type": "execute_result"
    },
    {
     "data": {
      "image/png": "[encoded data removed]",
      "text/plain": [
       "<Figure size 432x288 with 1 Axes>"
      ]
     },
     "metadata": {
      "needs_background": "light"
     },
     "output_type": "display_data"
    }
   ],
   "source": [
    "plt.hist([cars_1999, cars_2008], label = [\"1999 models\", \"2008 models\"])\n",
    "plt.legend(loc='upper right')"
   ]
  },
  {
   "cell_type": "code",
   "execution_count": 56,
   "id": "268ac6bd",
   "metadata": {},
   "outputs": [
    {
     "name": "stdout",
     "output_type": "stream",
     "text": [
      "We failed to reject the null hypothesis\n"
     ]
    }
   ],
   "source": [
    "if p < α:\n",
    "    print (\"We reject the null hypothesis\")\n",
    "else:\n",
    "    print(\"We failed to reject the null hypothesis\")"
   ]
  },
  {
   "cell_type": "markdown",
   "id": "15cb3fc4",
   "metadata": {},
   "source": [
    "# Are compact cars more fuel-efficient than the average car?"
   ]
  },
  {
   "cell_type": "markdown",
   "id": "ecc50fae",
   "metadata": {},
   "source": [
    "- H0: There is not a difference in fuel-efficiency between compact cars and the average car\n",
    "- Ha: Compact cars are more fuel-efficient than the average"
   ]
  },
  {
   "cell_type": "code",
   "execution_count": 57,
   "id": "7f533844",
   "metadata": {},
   "outputs": [
    {
     "data": {
      "text/html": [
       "<div>\n",
       "<style scoped>\n",
       "    .dataframe tbody tr th:only-of-type {\n",
       "        vertical-align: middle;\n",
       "    }\n",
       "\n",
       "    .dataframe tbody tr th {\n",
       "        vertical-align: top;\n",
       "    }\n",
       "\n",
       "    .dataframe thead th {\n",
       "        text-align: right;\n",
       "    }\n",
       "</style>\n",
       "<table border=\"1\" class=\"dataframe\">\n",
       "  <thead>\n",
       "    <tr style=\"text-align: right;\">\n",
       "      <th></th>\n",
       "      <th>manufacturer</th>\n",
       "      <th>model</th>\n",
       "      <th>displ</th>\n",
       "      <th>year</th>\n",
       "      <th>cyl</th>\n",
       "      <th>trans</th>\n",
       "      <th>drv</th>\n",
       "      <th>cty</th>\n",
       "      <th>hwy</th>\n",
       "      <th>fl</th>\n",
       "      <th>class</th>\n",
       "      <th>average_mileage</th>\n",
       "    </tr>\n",
       "  </thead>\n",
       "  <tbody>\n",
       "    <tr>\n",
       "      <th>1</th>\n",
       "      <td>audi</td>\n",
       "      <td>a4</td>\n",
       "      <td>1.8</td>\n",
       "      <td>1999</td>\n",
       "      <td>4</td>\n",
       "      <td>auto(l5)</td>\n",
       "      <td>f</td>\n",
       "      <td>18</td>\n",
       "      <td>29</td>\n",
       "      <td>p</td>\n",
       "      <td>compact</td>\n",
       "      <td>23.5</td>\n",
       "    </tr>\n",
       "    <tr>\n",
       "      <th>2</th>\n",
       "      <td>audi</td>\n",
       "      <td>a4</td>\n",
       "      <td>1.8</td>\n",
       "      <td>1999</td>\n",
       "      <td>4</td>\n",
       "      <td>manual(m5)</td>\n",
       "      <td>f</td>\n",
       "      <td>21</td>\n",
       "      <td>29</td>\n",
       "      <td>p</td>\n",
       "      <td>compact</td>\n",
       "      <td>25.0</td>\n",
       "    </tr>\n",
       "    <tr>\n",
       "      <th>3</th>\n",
       "      <td>audi</td>\n",
       "      <td>a4</td>\n",
       "      <td>2.0</td>\n",
       "      <td>2008</td>\n",
       "      <td>4</td>\n",
       "      <td>manual(m6)</td>\n",
       "      <td>f</td>\n",
       "      <td>20</td>\n",
       "      <td>31</td>\n",
       "      <td>p</td>\n",
       "      <td>compact</td>\n",
       "      <td>25.5</td>\n",
       "    </tr>\n",
       "    <tr>\n",
       "      <th>4</th>\n",
       "      <td>audi</td>\n",
       "      <td>a4</td>\n",
       "      <td>2.0</td>\n",
       "      <td>2008</td>\n",
       "      <td>4</td>\n",
       "      <td>auto(av)</td>\n",
       "      <td>f</td>\n",
       "      <td>21</td>\n",
       "      <td>30</td>\n",
       "      <td>p</td>\n",
       "      <td>compact</td>\n",
       "      <td>25.5</td>\n",
       "    </tr>\n",
       "    <tr>\n",
       "      <th>5</th>\n",
       "      <td>audi</td>\n",
       "      <td>a4</td>\n",
       "      <td>2.8</td>\n",
       "      <td>1999</td>\n",
       "      <td>6</td>\n",
       "      <td>auto(l5)</td>\n",
       "      <td>f</td>\n",
       "      <td>16</td>\n",
       "      <td>26</td>\n",
       "      <td>p</td>\n",
       "      <td>compact</td>\n",
       "      <td>21.0</td>\n",
       "    </tr>\n",
       "  </tbody>\n",
       "</table>\n",
       "</div>"
      ],
      "text/plain": [
       "  manufacturer model  displ  year  cyl       trans drv  cty  hwy fl    class  \\\n",
       "1         audi    a4    1.8  1999    4    auto(l5)   f   18   29  p  compact   \n",
       "2         audi    a4    1.8  1999    4  manual(m5)   f   21   29  p  compact   \n",
       "3         audi    a4    2.0  2008    4  manual(m6)   f   20   31  p  compact   \n",
       "4         audi    a4    2.0  2008    4    auto(av)   f   21   30  p  compact   \n",
       "5         audi    a4    2.8  1999    6    auto(l5)   f   16   26  p  compact   \n",
       "\n",
       "   average_mileage  \n",
       "1             23.5  \n",
       "2             25.0  \n",
       "3             25.5  \n",
       "4             25.5  \n",
       "5             21.0  "
      ]
     },
     "execution_count": 57,
     "metadata": {},
     "output_type": "execute_result"
    }
   ],
   "source": [
    "mpg.head()"
   ]
  },
  {
   "cell_type": "code",
   "execution_count": 6,
   "id": "3c45c4fa",
   "metadata": {},
   "outputs": [],
   "source": [
    "compact = mpg.average_mileage[mpg[\"class\"] == \"compact\"]"
   ]
  },
  {
   "cell_type": "code",
   "execution_count": 63,
   "id": "9b90d07f",
   "metadata": {},
   "outputs": [
    {
     "data": {
      "text/plain": [
       "(47,)"
      ]
     },
     "execution_count": 63,
     "metadata": {},
     "output_type": "execute_result"
    }
   ],
   "source": [
    "compact.shape"
   ]
  },
  {
   "cell_type": "code",
   "execution_count": 8,
   "id": "74cc9f4f",
   "metadata": {},
   "outputs": [],
   "source": [
    "average_car = mpg['average_mileage'].mean()"
   ]
  },
  {
   "cell_type": "code",
   "execution_count": 10,
   "id": "220f8e24",
   "metadata": {},
   "outputs": [],
   "source": [
    "α =.05"
   ]
  },
  {
   "cell_type": "code",
   "execution_count": 12,
   "id": "de7d963d",
   "metadata": {},
   "outputs": [
    {
     "data": {
      "text/plain": [
       "(7.896888573132535, 2.0992818971585668e-10, 0.05)"
      ]
     },
     "execution_count": 12,
     "metadata": {},
     "output_type": "execute_result"
    }
   ],
   "source": [
    "t, p = stats.ttest_1samp(compact,average_car)\n",
    "t, p/2, α"
   ]
  },
  {
   "cell_type": "code",
   "execution_count": 72,
   "id": "28999206",
   "metadata": {},
   "outputs": [
    {
     "name": "stdout",
     "output_type": "stream",
     "text": [
      "We reject the null hypothesis\n"
     ]
    }
   ],
   "source": [
    "if (p/2 < α) & (t > 0):\n",
    "    print(\"We reject the null hypothesis\")\n",
    "else:\n",
    "    print(\"We fail to reject the null hypothesis\")"
   ]
  },
  {
   "cell_type": "markdown",
   "id": "3d467f95",
   "metadata": {},
   "source": [
    "# Do manual cars get better gas mileage than automatic cars?"
   ]
  },
  {
   "cell_type": "markdown",
   "id": "b2a4fd4c",
   "metadata": {},
   "source": [
    "- H0 = There is no difference in average gas mileage between manual and automatic trabsmission cars \n",
    "- Ha = the fuel-efficiency in manual cars are better than automatic transmission cars"
   ]
  },
  {
   "cell_type": "code",
   "execution_count": 75,
   "id": "70835d7e",
   "metadata": {},
   "outputs": [],
   "source": [
    "manual_cars = mpg['average_mileage'][mpg.trans.str.contains('manual')]\n",
    "auto_cars = mpg['average_mileage'][mpg.trans.str.contains('auto')]"
   ]
  },
  {
   "cell_type": "code",
   "execution_count": 81,
   "id": "df12f8b3",
   "metadata": {},
   "outputs": [],
   "source": [
    "α = 0.05"
   ]
  },
  {
   "cell_type": "code",
   "execution_count": 77,
   "id": "4c5f9370",
   "metadata": {},
   "outputs": [
    {
     "data": {
      "text/plain": [
       "(21.942777233382337, 26.635167464114826)"
      ]
     },
     "execution_count": 77,
     "metadata": {},
     "output_type": "execute_result"
    }
   ],
   "source": [
    "auto_cars.var(), manual_cars.var()"
   ]
  },
  {
   "cell_type": "code",
   "execution_count": 83,
   "id": "4ae6c7af",
   "metadata": {},
   "outputs": [
    {
     "data": {
      "text/plain": [
       "(4.593437735750014, 3.5771872005728416e-06, 0.05)"
      ]
     },
     "execution_count": 83,
     "metadata": {},
     "output_type": "execute_result"
    }
   ],
   "source": [
    "t, p = stats.ttest_ind(manual_cars, auto_cars)\n",
    "t, p/2, α"
   ]
  },
  {
   "cell_type": "code",
   "execution_count": 84,
   "id": "d817c1ab",
   "metadata": {},
   "outputs": [
    {
     "name": "stdout",
     "output_type": "stream",
     "text": [
      "We reject the null hypothesis\n"
     ]
    }
   ],
   "source": [
    "if (p/2 < α) & (t > 0):\n",
    "    print(\"We reject the null hypothesis\")\n",
    "else:\n",
    "    print(\"We fail to reject the null hypothesis\")"
   ]
  },
  {
   "cell_type": "markdown",
   "id": "d591623c",
   "metadata": {},
   "source": [
    "# Correlation\n"
   ]
  },
  {
   "cell_type": "code",
   "execution_count": 87,
   "id": "555e0975",
   "metadata": {},
   "outputs": [],
   "source": [
    "import numpy as np\n",
    "import seaborn as sns\n",
    "import pandas as pd\n",
    "import scipy.stats as stats\n",
    "import matplotlib.pyplot as plt\n",
    "from pydataset import data\n",
    "from env import user_name, password, host, url, get_db_url"
   ]
  },
  {
   "cell_type": "markdown",
   "id": "b7ffe0a7",
   "metadata": {},
   "source": [
    "- Use the telco_churn data. Does tenure correlate with monthly charges? Total charges? What happens if you control for phone and internet service?"
   ]
  },
  {
   "cell_type": "code",
   "execution_count": 15,
   "id": "92d23b06",
   "metadata": {},
   "outputs": [],
   "source": [
    "telco_df = pd.read_csv('CustDetails.csv')"
   ]
  },
  {
   "cell_type": "code",
   "execution_count": 16,
   "id": "38896a69",
   "metadata": {},
   "outputs": [
    {
     "data": {
      "text/html": [
       "<div>\n",
       "<style scoped>\n",
       "    .dataframe tbody tr th:only-of-type {\n",
       "        vertical-align: middle;\n",
       "    }\n",
       "\n",
       "    .dataframe tbody tr th {\n",
       "        vertical-align: top;\n",
       "    }\n",
       "\n",
       "    .dataframe thead th {\n",
       "        text-align: right;\n",
       "    }\n",
       "</style>\n",
       "<table border=\"1\" class=\"dataframe\">\n",
       "  <thead>\n",
       "    <tr style=\"text-align: right;\">\n",
       "      <th></th>\n",
       "      <th>customer_id</th>\n",
       "      <th>gender</th>\n",
       "      <th>is_senior_citizen</th>\n",
       "      <th>partner</th>\n",
       "      <th>dependents</th>\n",
       "      <th>phone_service</th>\n",
       "      <th>internet_service</th>\n",
       "      <th>contract_type</th>\n",
       "      <th>payment_type</th>\n",
       "      <th>monthly_charges</th>\n",
       "      <th>...</th>\n",
       "      <th>partner_dependents</th>\n",
       "      <th>tenure</th>\n",
       "      <th>average_monthly</th>\n",
       "      <th>phone_services_description</th>\n",
       "      <th>internet_services_description</th>\n",
       "      <th>contact_type_description</th>\n",
       "      <th>tenure_month</th>\n",
       "      <th>service_types</th>\n",
       "      <th>tenure_years</th>\n",
       "      <th>Auto or Non-Auto</th>\n",
       "    </tr>\n",
       "  </thead>\n",
       "  <tbody>\n",
       "    <tr>\n",
       "      <th>0</th>\n",
       "      <td>0002-ORFBO</td>\n",
       "      <td>Female</td>\n",
       "      <td>0</td>\n",
       "      <td>Yes</td>\n",
       "      <td>Yes</td>\n",
       "      <td>1</td>\n",
       "      <td>1</td>\n",
       "      <td>1</td>\n",
       "      <td>Mailed check</td>\n",
       "      <td>65.6</td>\n",
       "      <td>...</td>\n",
       "      <td>3</td>\n",
       "      <td>9.044207</td>\n",
       "      <td>65.52114676</td>\n",
       "      <td>One Line</td>\n",
       "      <td>DSL</td>\n",
       "      <td>1 Year</td>\n",
       "      <td>9</td>\n",
       "      <td>Phone and Internet</td>\n",
       "      <td>&lt; 1 year</td>\n",
       "      <td>Non-Auto</td>\n",
       "    </tr>\n",
       "    <tr>\n",
       "      <th>1</th>\n",
       "      <td>0003-MKNFE</td>\n",
       "      <td>Male</td>\n",
       "      <td>0</td>\n",
       "      <td>No</td>\n",
       "      <td>No</td>\n",
       "      <td>2</td>\n",
       "      <td>1</td>\n",
       "      <td>0</td>\n",
       "      <td>Mailed check</td>\n",
       "      <td>59.9</td>\n",
       "      <td>...</td>\n",
       "      <td>0</td>\n",
       "      <td>9.055092</td>\n",
       "      <td>142.7215952</td>\n",
       "      <td>Two or More Lines</td>\n",
       "      <td>DSL</td>\n",
       "      <td>Month-to-Month</td>\n",
       "      <td>9</td>\n",
       "      <td>Phone and Internet</td>\n",
       "      <td>&lt; 1 year</td>\n",
       "      <td>Non-Auto</td>\n",
       "    </tr>\n",
       "    <tr>\n",
       "      <th>2</th>\n",
       "      <td>0004-TLHLJ</td>\n",
       "      <td>Male</td>\n",
       "      <td>0</td>\n",
       "      <td>No</td>\n",
       "      <td>No</td>\n",
       "      <td>1</td>\n",
       "      <td>2</td>\n",
       "      <td>0</td>\n",
       "      <td>Electronic check</td>\n",
       "      <td>73.9</td>\n",
       "      <td>...</td>\n",
       "      <td>0</td>\n",
       "      <td>3.800406</td>\n",
       "      <td>22.23476189</td>\n",
       "      <td>One Line</td>\n",
       "      <td>Fiber Optic</td>\n",
       "      <td>Month-to-Month</td>\n",
       "      <td>4</td>\n",
       "      <td>Phone and Internet</td>\n",
       "      <td>&lt; 1 year</td>\n",
       "      <td>Non-Auto</td>\n",
       "    </tr>\n",
       "  </tbody>\n",
       "</table>\n",
       "<p>3 rows × 27 columns</p>\n",
       "</div>"
      ],
      "text/plain": [
       "  customer_id  gender  is_senior_citizen partner dependents  phone_service  \\\n",
       "0  0002-ORFBO  Female                  0     Yes        Yes              1   \n",
       "1  0003-MKNFE    Male                  0      No         No              2   \n",
       "2  0004-TLHLJ    Male                  0      No         No              1   \n",
       "\n",
       "   internet_service  contract_type      payment_type  monthly_charges  ...  \\\n",
       "0                 1              1      Mailed check             65.6  ...   \n",
       "1                 1              0      Mailed check             59.9  ...   \n",
       "2                 2              0  Electronic check             73.9  ...   \n",
       "\n",
       "   partner_dependents    tenure  average_monthly  phone_services_description  \\\n",
       "0                   3  9.044207      65.52114676                    One Line   \n",
       "1                   0  9.055092      142.7215952           Two or More Lines   \n",
       "2                   0  3.800406      22.23476189                    One Line   \n",
       "\n",
       "   internet_services_description  contact_type_description  tenure_month  \\\n",
       "0                            DSL                    1 Year             9   \n",
       "1                            DSL            Month-to-Month             9   \n",
       "2                    Fiber Optic            Month-to-Month             4   \n",
       "\n",
       "        service_types  tenure_years Auto or Non-Auto  \n",
       "0  Phone and Internet      < 1 year         Non-Auto  \n",
       "1  Phone and Internet      < 1 year         Non-Auto  \n",
       "2  Phone and Internet      < 1 year         Non-Auto  \n",
       "\n",
       "[3 rows x 27 columns]"
      ]
     },
     "execution_count": 16,
     "metadata": {},
     "output_type": "execute_result"
    }
   ],
   "source": [
    "telco_df.head(3)"
   ]
  },
  {
   "cell_type": "code",
   "execution_count": 17,
   "id": "30bad1ad",
   "metadata": {},
   "outputs": [
    {
     "name": "stdout",
     "output_type": "stream",
     "text": [
      "<class 'pandas.core.frame.DataFrame'>\n",
      "RangeIndex: 7049 entries, 0 to 7048\n",
      "Data columns (total 27 columns):\n",
      " #   Column                         Non-Null Count  Dtype  \n",
      "---  ------                         --------------  -----  \n",
      " 0   customer_id                    7049 non-null   object \n",
      " 1   gender                         7049 non-null   object \n",
      " 2   is_senior_citizen              7049 non-null   int64  \n",
      " 3   partner                        7049 non-null   object \n",
      " 4   dependents                     7049 non-null   object \n",
      " 5   phone_service                  7049 non-null   int64  \n",
      " 6   internet_service               7049 non-null   int64  \n",
      " 7   contract_type                  7049 non-null   int64  \n",
      " 8   payment_type                   7049 non-null   object \n",
      " 9   monthly_charges                7049 non-null   float64\n",
      " 10  total_charges                  7038 non-null   float64\n",
      " 11  churn                          7049 non-null   object \n",
      " 12  is_female                      7049 non-null   bool   \n",
      " 13  has_churned                    7049 non-null   bool   \n",
      " 14  has_phone                      7049 non-null   bool   \n",
      " 15  has_internet                   7049 non-null   bool   \n",
      " 16  has_phone_and_internet         7049 non-null   bool   \n",
      " 17  partner_dependents             7049 non-null   int64  \n",
      " 18  tenure                         7049 non-null   float64\n",
      " 19  average_monthly                7049 non-null   object \n",
      " 20  phone_services_description     7049 non-null   object \n",
      " 21  internet_services_description  7049 non-null   object \n",
      " 22  contact_type_description       7049 non-null   object \n",
      " 23  tenure_month                   7049 non-null   int64  \n",
      " 24  service_types                  7049 non-null   object \n",
      " 25  tenure_years                   7049 non-null   object \n",
      " 26  Auto or Non-Auto               7049 non-null   object \n",
      "dtypes: bool(5), float64(3), int64(6), object(13)\n",
      "memory usage: 1.2+ MB\n"
     ]
    }
   ],
   "source": [
    "telco_df.info()"
   ]
  },
  {
   "cell_type": "code",
   "execution_count": 18,
   "id": "19a9a75e",
   "metadata": {},
   "outputs": [
    {
     "data": {
      "text/html": [
       "<div>\n",
       "<style scoped>\n",
       "    .dataframe tbody tr th:only-of-type {\n",
       "        vertical-align: middle;\n",
       "    }\n",
       "\n",
       "    .dataframe tbody tr th {\n",
       "        vertical-align: top;\n",
       "    }\n",
       "\n",
       "    .dataframe thead th {\n",
       "        text-align: right;\n",
       "    }\n",
       "</style>\n",
       "<table border=\"1\" class=\"dataframe\">\n",
       "  <thead>\n",
       "    <tr style=\"text-align: right;\">\n",
       "      <th></th>\n",
       "      <th>customer_id</th>\n",
       "      <th>gender</th>\n",
       "      <th>is_senior_citizen</th>\n",
       "      <th>partner</th>\n",
       "      <th>dependents</th>\n",
       "      <th>phone_service</th>\n",
       "      <th>internet_service</th>\n",
       "      <th>contract_type</th>\n",
       "      <th>payment_type</th>\n",
       "      <th>monthly_charges</th>\n",
       "      <th>...</th>\n",
       "      <th>partner_dependents</th>\n",
       "      <th>tenure</th>\n",
       "      <th>average_monthly</th>\n",
       "      <th>phone_services_description</th>\n",
       "      <th>internet_services_description</th>\n",
       "      <th>contact_type_description</th>\n",
       "      <th>tenure_month</th>\n",
       "      <th>service_types</th>\n",
       "      <th>tenure_years</th>\n",
       "      <th>Auto or Non-Auto</th>\n",
       "    </tr>\n",
       "  </thead>\n",
       "  <tbody>\n",
       "    <tr>\n",
       "      <th>945</th>\n",
       "      <td>1371-DWPAZ</td>\n",
       "      <td>Female</td>\n",
       "      <td>0</td>\n",
       "      <td>Yes</td>\n",
       "      <td>Yes</td>\n",
       "      <td>0</td>\n",
       "      <td>1</td>\n",
       "      <td>2</td>\n",
       "      <td>Credit card (automatic)</td>\n",
       "      <td>56.05</td>\n",
       "      <td>...</td>\n",
       "      <td>3</td>\n",
       "      <td>0.0</td>\n",
       "      <td>0</td>\n",
       "      <td>No Phone Service</td>\n",
       "      <td>DSL</td>\n",
       "      <td>2 Year</td>\n",
       "      <td>0</td>\n",
       "      <td>Internet</td>\n",
       "      <td>&lt; 1 year</td>\n",
       "      <td>Auto</td>\n",
       "    </tr>\n",
       "    <tr>\n",
       "      <th>1731</th>\n",
       "      <td>2520-SGTTA</td>\n",
       "      <td>Female</td>\n",
       "      <td>0</td>\n",
       "      <td>Yes</td>\n",
       "      <td>Yes</td>\n",
       "      <td>1</td>\n",
       "      <td>0</td>\n",
       "      <td>2</td>\n",
       "      <td>Mailed check</td>\n",
       "      <td>20.00</td>\n",
       "      <td>...</td>\n",
       "      <td>3</td>\n",
       "      <td>0.0</td>\n",
       "      <td>0</td>\n",
       "      <td>One Line</td>\n",
       "      <td>No Internet Service</td>\n",
       "      <td>2 Year</td>\n",
       "      <td>0</td>\n",
       "      <td>Phone</td>\n",
       "      <td>&lt; 1 year</td>\n",
       "      <td>Non-Auto</td>\n",
       "    </tr>\n",
       "    <tr>\n",
       "      <th>1906</th>\n",
       "      <td>2775-SEFEE</td>\n",
       "      <td>Male</td>\n",
       "      <td>0</td>\n",
       "      <td>No</td>\n",
       "      <td>Yes</td>\n",
       "      <td>2</td>\n",
       "      <td>1</td>\n",
       "      <td>2</td>\n",
       "      <td>Bank transfer (automatic)</td>\n",
       "      <td>61.90</td>\n",
       "      <td>...</td>\n",
       "      <td>2</td>\n",
       "      <td>0.0</td>\n",
       "      <td>0</td>\n",
       "      <td>Two or More Lines</td>\n",
       "      <td>DSL</td>\n",
       "      <td>2 Year</td>\n",
       "      <td>0</td>\n",
       "      <td>Phone and Internet</td>\n",
       "      <td>&lt; 1 year</td>\n",
       "      <td>Auto</td>\n",
       "    </tr>\n",
       "    <tr>\n",
       "      <th>2025</th>\n",
       "      <td>2923-ARZLG</td>\n",
       "      <td>Male</td>\n",
       "      <td>0</td>\n",
       "      <td>Yes</td>\n",
       "      <td>Yes</td>\n",
       "      <td>1</td>\n",
       "      <td>0</td>\n",
       "      <td>1</td>\n",
       "      <td>Mailed check</td>\n",
       "      <td>19.70</td>\n",
       "      <td>...</td>\n",
       "      <td>3</td>\n",
       "      <td>0.0</td>\n",
       "      <td>0</td>\n",
       "      <td>One Line</td>\n",
       "      <td>No Internet Service</td>\n",
       "      <td>1 Year</td>\n",
       "      <td>0</td>\n",
       "      <td>Phone</td>\n",
       "      <td>&lt; 1 year</td>\n",
       "      <td>Non-Auto</td>\n",
       "    </tr>\n",
       "    <tr>\n",
       "      <th>2176</th>\n",
       "      <td>3115-CZMZD</td>\n",
       "      <td>Male</td>\n",
       "      <td>0</td>\n",
       "      <td>No</td>\n",
       "      <td>Yes</td>\n",
       "      <td>1</td>\n",
       "      <td>0</td>\n",
       "      <td>2</td>\n",
       "      <td>Mailed check</td>\n",
       "      <td>20.25</td>\n",
       "      <td>...</td>\n",
       "      <td>2</td>\n",
       "      <td>0.0</td>\n",
       "      <td>0</td>\n",
       "      <td>One Line</td>\n",
       "      <td>No Internet Service</td>\n",
       "      <td>2 Year</td>\n",
       "      <td>0</td>\n",
       "      <td>Phone</td>\n",
       "      <td>&lt; 1 year</td>\n",
       "      <td>Non-Auto</td>\n",
       "    </tr>\n",
       "    <tr>\n",
       "      <th>2250</th>\n",
       "      <td>3213-VVOLG</td>\n",
       "      <td>Male</td>\n",
       "      <td>0</td>\n",
       "      <td>Yes</td>\n",
       "      <td>Yes</td>\n",
       "      <td>2</td>\n",
       "      <td>0</td>\n",
       "      <td>2</td>\n",
       "      <td>Mailed check</td>\n",
       "      <td>25.35</td>\n",
       "      <td>...</td>\n",
       "      <td>3</td>\n",
       "      <td>0.0</td>\n",
       "      <td>0</td>\n",
       "      <td>Two or More Lines</td>\n",
       "      <td>No Internet Service</td>\n",
       "      <td>2 Year</td>\n",
       "      <td>0</td>\n",
       "      <td>Phone</td>\n",
       "      <td>&lt; 1 year</td>\n",
       "      <td>Non-Auto</td>\n",
       "    </tr>\n",
       "    <tr>\n",
       "      <th>2855</th>\n",
       "      <td>4075-WKNIU</td>\n",
       "      <td>Female</td>\n",
       "      <td>0</td>\n",
       "      <td>Yes</td>\n",
       "      <td>Yes</td>\n",
       "      <td>2</td>\n",
       "      <td>1</td>\n",
       "      <td>2</td>\n",
       "      <td>Mailed check</td>\n",
       "      <td>73.35</td>\n",
       "      <td>...</td>\n",
       "      <td>3</td>\n",
       "      <td>0.0</td>\n",
       "      <td>0</td>\n",
       "      <td>Two or More Lines</td>\n",
       "      <td>DSL</td>\n",
       "      <td>2 Year</td>\n",
       "      <td>0</td>\n",
       "      <td>Phone and Internet</td>\n",
       "      <td>&lt; 1 year</td>\n",
       "      <td>Non-Auto</td>\n",
       "    </tr>\n",
       "    <tr>\n",
       "      <th>3052</th>\n",
       "      <td>4367-NUYAO</td>\n",
       "      <td>Male</td>\n",
       "      <td>0</td>\n",
       "      <td>Yes</td>\n",
       "      <td>Yes</td>\n",
       "      <td>2</td>\n",
       "      <td>0</td>\n",
       "      <td>2</td>\n",
       "      <td>Mailed check</td>\n",
       "      <td>25.75</td>\n",
       "      <td>...</td>\n",
       "      <td>3</td>\n",
       "      <td>0.0</td>\n",
       "      <td>0</td>\n",
       "      <td>Two or More Lines</td>\n",
       "      <td>No Internet Service</td>\n",
       "      <td>2 Year</td>\n",
       "      <td>0</td>\n",
       "      <td>Phone</td>\n",
       "      <td>&lt; 1 year</td>\n",
       "      <td>Non-Auto</td>\n",
       "    </tr>\n",
       "    <tr>\n",
       "      <th>3118</th>\n",
       "      <td>4472-LVYGI</td>\n",
       "      <td>Female</td>\n",
       "      <td>0</td>\n",
       "      <td>Yes</td>\n",
       "      <td>Yes</td>\n",
       "      <td>0</td>\n",
       "      <td>1</td>\n",
       "      <td>2</td>\n",
       "      <td>Bank transfer (automatic)</td>\n",
       "      <td>52.55</td>\n",
       "      <td>...</td>\n",
       "      <td>3</td>\n",
       "      <td>0.0</td>\n",
       "      <td>0</td>\n",
       "      <td>No Phone Service</td>\n",
       "      <td>DSL</td>\n",
       "      <td>2 Year</td>\n",
       "      <td>0</td>\n",
       "      <td>Internet</td>\n",
       "      <td>&lt; 1 year</td>\n",
       "      <td>Auto</td>\n",
       "    </tr>\n",
       "    <tr>\n",
       "      <th>4054</th>\n",
       "      <td>5709-LVOEQ</td>\n",
       "      <td>Female</td>\n",
       "      <td>0</td>\n",
       "      <td>Yes</td>\n",
       "      <td>Yes</td>\n",
       "      <td>1</td>\n",
       "      <td>1</td>\n",
       "      <td>2</td>\n",
       "      <td>Mailed check</td>\n",
       "      <td>80.85</td>\n",
       "      <td>...</td>\n",
       "      <td>3</td>\n",
       "      <td>0.0</td>\n",
       "      <td>0</td>\n",
       "      <td>One Line</td>\n",
       "      <td>DSL</td>\n",
       "      <td>2 Year</td>\n",
       "      <td>0</td>\n",
       "      <td>Phone and Internet</td>\n",
       "      <td>&lt; 1 year</td>\n",
       "      <td>Non-Auto</td>\n",
       "    </tr>\n",
       "    <tr>\n",
       "      <th>5433</th>\n",
       "      <td>7644-OMVMY</td>\n",
       "      <td>Male</td>\n",
       "      <td>0</td>\n",
       "      <td>Yes</td>\n",
       "      <td>Yes</td>\n",
       "      <td>1</td>\n",
       "      <td>0</td>\n",
       "      <td>2</td>\n",
       "      <td>Mailed check</td>\n",
       "      <td>19.85</td>\n",
       "      <td>...</td>\n",
       "      <td>3</td>\n",
       "      <td>0.0</td>\n",
       "      <td>0</td>\n",
       "      <td>One Line</td>\n",
       "      <td>No Internet Service</td>\n",
       "      <td>2 Year</td>\n",
       "      <td>0</td>\n",
       "      <td>Phone</td>\n",
       "      <td>&lt; 1 year</td>\n",
       "      <td>Non-Auto</td>\n",
       "    </tr>\n",
       "  </tbody>\n",
       "</table>\n",
       "<p>11 rows × 27 columns</p>\n",
       "</div>"
      ],
      "text/plain": [
       "     customer_id  gender  is_senior_citizen partner dependents  phone_service  \\\n",
       "945   1371-DWPAZ  Female                  0     Yes        Yes              0   \n",
       "1731  2520-SGTTA  Female                  0     Yes        Yes              1   \n",
       "1906  2775-SEFEE    Male                  0      No        Yes              2   \n",
       "2025  2923-ARZLG    Male                  0     Yes        Yes              1   \n",
       "2176  3115-CZMZD    Male                  0      No        Yes              1   \n",
       "2250  3213-VVOLG    Male                  0     Yes        Yes              2   \n",
       "2855  4075-WKNIU  Female                  0     Yes        Yes              2   \n",
       "3052  4367-NUYAO    Male                  0     Yes        Yes              2   \n",
       "3118  4472-LVYGI  Female                  0     Yes        Yes              0   \n",
       "4054  5709-LVOEQ  Female                  0     Yes        Yes              1   \n",
       "5433  7644-OMVMY    Male                  0     Yes        Yes              1   \n",
       "\n",
       "      internet_service  contract_type               payment_type  \\\n",
       "945                  1              2    Credit card (automatic)   \n",
       "1731                 0              2               Mailed check   \n",
       "1906                 1              2  Bank transfer (automatic)   \n",
       "2025                 0              1               Mailed check   \n",
       "2176                 0              2               Mailed check   \n",
       "2250                 0              2               Mailed check   \n",
       "2855                 1              2               Mailed check   \n",
       "3052                 0              2               Mailed check   \n",
       "3118                 1              2  Bank transfer (automatic)   \n",
       "4054                 1              2               Mailed check   \n",
       "5433                 0              2               Mailed check   \n",
       "\n",
       "      monthly_charges  ...  partner_dependents tenure  average_monthly  \\\n",
       "945             56.05  ...                   3    0.0                0   \n",
       "1731            20.00  ...                   3    0.0                0   \n",
       "1906            61.90  ...                   2    0.0                0   \n",
       "2025            19.70  ...                   3    0.0                0   \n",
       "2176            20.25  ...                   2    0.0                0   \n",
       "2250            25.35  ...                   3    0.0                0   \n",
       "2855            73.35  ...                   3    0.0                0   \n",
       "3052            25.75  ...                   3    0.0                0   \n",
       "3118            52.55  ...                   3    0.0                0   \n",
       "4054            80.85  ...                   3    0.0                0   \n",
       "5433            19.85  ...                   3    0.0                0   \n",
       "\n",
       "      phone_services_description  internet_services_description  \\\n",
       "945             No Phone Service                            DSL   \n",
       "1731                    One Line            No Internet Service   \n",
       "1906           Two or More Lines                            DSL   \n",
       "2025                    One Line            No Internet Service   \n",
       "2176                    One Line            No Internet Service   \n",
       "2250           Two or More Lines            No Internet Service   \n",
       "2855           Two or More Lines                            DSL   \n",
       "3052           Two or More Lines            No Internet Service   \n",
       "3118            No Phone Service                            DSL   \n",
       "4054                    One Line                            DSL   \n",
       "5433                    One Line            No Internet Service   \n",
       "\n",
       "      contact_type_description  tenure_month       service_types  \\\n",
       "945                     2 Year             0            Internet   \n",
       "1731                    2 Year             0               Phone   \n",
       "1906                    2 Year             0  Phone and Internet   \n",
       "2025                    1 Year             0               Phone   \n",
       "2176                    2 Year             0               Phone   \n",
       "2250                    2 Year             0               Phone   \n",
       "2855                    2 Year             0  Phone and Internet   \n",
       "3052                    2 Year             0               Phone   \n",
       "3118                    2 Year             0            Internet   \n",
       "4054                    2 Year             0  Phone and Internet   \n",
       "5433                    2 Year             0               Phone   \n",
       "\n",
       "      tenure_years Auto or Non-Auto  \n",
       "945       < 1 year             Auto  \n",
       "1731      < 1 year         Non-Auto  \n",
       "1906      < 1 year             Auto  \n",
       "2025      < 1 year         Non-Auto  \n",
       "2176      < 1 year         Non-Auto  \n",
       "2250      < 1 year         Non-Auto  \n",
       "2855      < 1 year         Non-Auto  \n",
       "3052      < 1 year         Non-Auto  \n",
       "3118      < 1 year             Auto  \n",
       "4054      < 1 year         Non-Auto  \n",
       "5433      < 1 year         Non-Auto  \n",
       "\n",
       "[11 rows x 27 columns]"
      ]
     },
     "execution_count": 18,
     "metadata": {},
     "output_type": "execute_result"
    }
   ],
   "source": [
    "telco_df[telco_df.isna().any(axis=1)]"
   ]
  },
  {
   "cell_type": "code",
   "execution_count": 20,
   "id": "299fd6ae",
   "metadata": {},
   "outputs": [
    {
     "data": {
      "text/html": [
       "<div>\n",
       "<style scoped>\n",
       "    .dataframe tbody tr th:only-of-type {\n",
       "        vertical-align: middle;\n",
       "    }\n",
       "\n",
       "    .dataframe tbody tr th {\n",
       "        vertical-align: top;\n",
       "    }\n",
       "\n",
       "    .dataframe thead th {\n",
       "        text-align: right;\n",
       "    }\n",
       "</style>\n",
       "<table border=\"1\" class=\"dataframe\">\n",
       "  <thead>\n",
       "    <tr style=\"text-align: right;\">\n",
       "      <th></th>\n",
       "      <th>customer_id</th>\n",
       "      <th>gender</th>\n",
       "      <th>is_senior_citizen</th>\n",
       "      <th>partner</th>\n",
       "      <th>dependents</th>\n",
       "      <th>phone_service</th>\n",
       "      <th>internet_service</th>\n",
       "      <th>contract_type</th>\n",
       "      <th>payment_type</th>\n",
       "      <th>monthly_charges</th>\n",
       "      <th>...</th>\n",
       "      <th>partner_dependents</th>\n",
       "      <th>tenure</th>\n",
       "      <th>average_monthly</th>\n",
       "      <th>phone_services_description</th>\n",
       "      <th>internet_services_description</th>\n",
       "      <th>contact_type_description</th>\n",
       "      <th>tenure_month</th>\n",
       "      <th>service_types</th>\n",
       "      <th>tenure_years</th>\n",
       "      <th>Auto or Non-Auto</th>\n",
       "    </tr>\n",
       "  </thead>\n",
       "  <tbody>\n",
       "    <tr>\n",
       "      <th>0</th>\n",
       "      <td>0002-ORFBO</td>\n",
       "      <td>Female</td>\n",
       "      <td>0</td>\n",
       "      <td>Yes</td>\n",
       "      <td>Yes</td>\n",
       "      <td>1</td>\n",
       "      <td>1</td>\n",
       "      <td>1</td>\n",
       "      <td>Mailed check</td>\n",
       "      <td>65.60</td>\n",
       "      <td>...</td>\n",
       "      <td>3</td>\n",
       "      <td>9.044207</td>\n",
       "      <td>65.52114676</td>\n",
       "      <td>One Line</td>\n",
       "      <td>DSL</td>\n",
       "      <td>1 Year</td>\n",
       "      <td>9</td>\n",
       "      <td>Phone and Internet</td>\n",
       "      <td>&lt; 1 year</td>\n",
       "      <td>Non-Auto</td>\n",
       "    </tr>\n",
       "    <tr>\n",
       "      <th>1</th>\n",
       "      <td>0003-MKNFE</td>\n",
       "      <td>Male</td>\n",
       "      <td>0</td>\n",
       "      <td>No</td>\n",
       "      <td>No</td>\n",
       "      <td>2</td>\n",
       "      <td>1</td>\n",
       "      <td>0</td>\n",
       "      <td>Mailed check</td>\n",
       "      <td>59.90</td>\n",
       "      <td>...</td>\n",
       "      <td>0</td>\n",
       "      <td>9.055092</td>\n",
       "      <td>142.7215952</td>\n",
       "      <td>Two or More Lines</td>\n",
       "      <td>DSL</td>\n",
       "      <td>Month-to-Month</td>\n",
       "      <td>9</td>\n",
       "      <td>Phone and Internet</td>\n",
       "      <td>&lt; 1 year</td>\n",
       "      <td>Non-Auto</td>\n",
       "    </tr>\n",
       "    <tr>\n",
       "      <th>2</th>\n",
       "      <td>0004-TLHLJ</td>\n",
       "      <td>Male</td>\n",
       "      <td>0</td>\n",
       "      <td>No</td>\n",
       "      <td>No</td>\n",
       "      <td>1</td>\n",
       "      <td>2</td>\n",
       "      <td>0</td>\n",
       "      <td>Electronic check</td>\n",
       "      <td>73.90</td>\n",
       "      <td>...</td>\n",
       "      <td>0</td>\n",
       "      <td>3.800406</td>\n",
       "      <td>22.23476189</td>\n",
       "      <td>One Line</td>\n",
       "      <td>Fiber Optic</td>\n",
       "      <td>Month-to-Month</td>\n",
       "      <td>4</td>\n",
       "      <td>Phone and Internet</td>\n",
       "      <td>&lt; 1 year</td>\n",
       "      <td>Non-Auto</td>\n",
       "    </tr>\n",
       "    <tr>\n",
       "      <th>3</th>\n",
       "      <td>0011-IGKFF</td>\n",
       "      <td>Male</td>\n",
       "      <td>1</td>\n",
       "      <td>Yes</td>\n",
       "      <td>No</td>\n",
       "      <td>1</td>\n",
       "      <td>2</td>\n",
       "      <td>0</td>\n",
       "      <td>Electronic check</td>\n",
       "      <td>98.00</td>\n",
       "      <td>...</td>\n",
       "      <td>1</td>\n",
       "      <td>12.631122</td>\n",
       "      <td>388.3904824</td>\n",
       "      <td>One Line</td>\n",
       "      <td>Fiber Optic</td>\n",
       "      <td>Month-to-Month</td>\n",
       "      <td>13</td>\n",
       "      <td>Phone and Internet</td>\n",
       "      <td>2 years</td>\n",
       "      <td>Non-Auto</td>\n",
       "    </tr>\n",
       "    <tr>\n",
       "      <th>4</th>\n",
       "      <td>0013-EXCHZ</td>\n",
       "      <td>Female</td>\n",
       "      <td>1</td>\n",
       "      <td>Yes</td>\n",
       "      <td>No</td>\n",
       "      <td>1</td>\n",
       "      <td>2</td>\n",
       "      <td>0</td>\n",
       "      <td>Mailed check</td>\n",
       "      <td>83.90</td>\n",
       "      <td>...</td>\n",
       "      <td>1</td>\n",
       "      <td>3.187128</td>\n",
       "      <td>32.47451221</td>\n",
       "      <td>One Line</td>\n",
       "      <td>Fiber Optic</td>\n",
       "      <td>Month-to-Month</td>\n",
       "      <td>3</td>\n",
       "      <td>Phone and Internet</td>\n",
       "      <td>&lt; 1 year</td>\n",
       "      <td>Non-Auto</td>\n",
       "    </tr>\n",
       "    <tr>\n",
       "      <th>...</th>\n",
       "      <td>...</td>\n",
       "      <td>...</td>\n",
       "      <td>...</td>\n",
       "      <td>...</td>\n",
       "      <td>...</td>\n",
       "      <td>...</td>\n",
       "      <td>...</td>\n",
       "      <td>...</td>\n",
       "      <td>...</td>\n",
       "      <td>...</td>\n",
       "      <td>...</td>\n",
       "      <td>...</td>\n",
       "      <td>...</td>\n",
       "      <td>...</td>\n",
       "      <td>...</td>\n",
       "      <td>...</td>\n",
       "      <td>...</td>\n",
       "      <td>...</td>\n",
       "      <td>...</td>\n",
       "      <td>...</td>\n",
       "      <td>...</td>\n",
       "    </tr>\n",
       "    <tr>\n",
       "      <th>7044</th>\n",
       "      <td>9987-LUTYD</td>\n",
       "      <td>Female</td>\n",
       "      <td>0</td>\n",
       "      <td>No</td>\n",
       "      <td>No</td>\n",
       "      <td>1</td>\n",
       "      <td>1</td>\n",
       "      <td>1</td>\n",
       "      <td>Mailed check</td>\n",
       "      <td>55.15</td>\n",
       "      <td>...</td>\n",
       "      <td>0</td>\n",
       "      <td>13.470535</td>\n",
       "      <td>33.74114853</td>\n",
       "      <td>One Line</td>\n",
       "      <td>DSL</td>\n",
       "      <td>1 Year</td>\n",
       "      <td>13</td>\n",
       "      <td>Phone and Internet</td>\n",
       "      <td>2 years</td>\n",
       "      <td>Non-Auto</td>\n",
       "    </tr>\n",
       "    <tr>\n",
       "      <th>7045</th>\n",
       "      <td>9992-RRAMN</td>\n",
       "      <td>Male</td>\n",
       "      <td>0</td>\n",
       "      <td>Yes</td>\n",
       "      <td>No</td>\n",
       "      <td>2</td>\n",
       "      <td>2</td>\n",
       "      <td>0</td>\n",
       "      <td>Electronic check</td>\n",
       "      <td>85.10</td>\n",
       "      <td>...</td>\n",
       "      <td>1</td>\n",
       "      <td>22.017626</td>\n",
       "      <td>1016.141348</td>\n",
       "      <td>Two or More Lines</td>\n",
       "      <td>Fiber Optic</td>\n",
       "      <td>Month-to-Month</td>\n",
       "      <td>22</td>\n",
       "      <td>Phone and Internet</td>\n",
       "      <td>2 years</td>\n",
       "      <td>Non-Auto</td>\n",
       "    </tr>\n",
       "    <tr>\n",
       "      <th>7046</th>\n",
       "      <td>9992-UJOEL</td>\n",
       "      <td>Male</td>\n",
       "      <td>0</td>\n",
       "      <td>No</td>\n",
       "      <td>No</td>\n",
       "      <td>1</td>\n",
       "      <td>1</td>\n",
       "      <td>0</td>\n",
       "      <td>Mailed check</td>\n",
       "      <td>50.30</td>\n",
       "      <td>...</td>\n",
       "      <td>0</td>\n",
       "      <td>1.843936</td>\n",
       "      <td>1.359888388</td>\n",
       "      <td>One Line</td>\n",
       "      <td>DSL</td>\n",
       "      <td>Month-to-Month</td>\n",
       "      <td>2</td>\n",
       "      <td>Phone and Internet</td>\n",
       "      <td>&lt; 1 year</td>\n",
       "      <td>Non-Auto</td>\n",
       "    </tr>\n",
       "    <tr>\n",
       "      <th>7047</th>\n",
       "      <td>9993-LHIEB</td>\n",
       "      <td>Male</td>\n",
       "      <td>0</td>\n",
       "      <td>Yes</td>\n",
       "      <td>Yes</td>\n",
       "      <td>1</td>\n",
       "      <td>1</td>\n",
       "      <td>2</td>\n",
       "      <td>Mailed check</td>\n",
       "      <td>67.85</td>\n",
       "      <td>...</td>\n",
       "      <td>3</td>\n",
       "      <td>68.204127</td>\n",
       "      <td>73.64099417</td>\n",
       "      <td>One Line</td>\n",
       "      <td>DSL</td>\n",
       "      <td>2 Year</td>\n",
       "      <td>68</td>\n",
       "      <td>Phone and Internet</td>\n",
       "      <td>5 years</td>\n",
       "      <td>Non-Auto</td>\n",
       "    </tr>\n",
       "    <tr>\n",
       "      <th>7048</th>\n",
       "      <td>9995-HOTOH</td>\n",
       "      <td>Male</td>\n",
       "      <td>0</td>\n",
       "      <td>Yes</td>\n",
       "      <td>Yes</td>\n",
       "      <td>0</td>\n",
       "      <td>1</td>\n",
       "      <td>2</td>\n",
       "      <td>Electronic check</td>\n",
       "      <td>59.00</td>\n",
       "      <td>...</td>\n",
       "      <td>3</td>\n",
       "      <td>62.840678</td>\n",
       "      <td>#REF!</td>\n",
       "      <td>No Phone Service</td>\n",
       "      <td>DSL</td>\n",
       "      <td>2 Year</td>\n",
       "      <td>63</td>\n",
       "      <td>Internet</td>\n",
       "      <td>5 years</td>\n",
       "      <td>Non-Auto</td>\n",
       "    </tr>\n",
       "  </tbody>\n",
       "</table>\n",
       "<p>7038 rows × 27 columns</p>\n",
       "</div>"
      ],
      "text/plain": [
       "     customer_id  gender  is_senior_citizen partner dependents  phone_service  \\\n",
       "0     0002-ORFBO  Female                  0     Yes        Yes              1   \n",
       "1     0003-MKNFE    Male                  0      No         No              2   \n",
       "2     0004-TLHLJ    Male                  0      No         No              1   \n",
       "3     0011-IGKFF    Male                  1     Yes         No              1   \n",
       "4     0013-EXCHZ  Female                  1     Yes         No              1   \n",
       "...          ...     ...                ...     ...        ...            ...   \n",
       "7044  9987-LUTYD  Female                  0      No         No              1   \n",
       "7045  9992-RRAMN    Male                  0     Yes         No              2   \n",
       "7046  9992-UJOEL    Male                  0      No         No              1   \n",
       "7047  9993-LHIEB    Male                  0     Yes        Yes              1   \n",
       "7048  9995-HOTOH    Male                  0     Yes        Yes              0   \n",
       "\n",
       "      internet_service  contract_type      payment_type  monthly_charges  ...  \\\n",
       "0                    1              1      Mailed check            65.60  ...   \n",
       "1                    1              0      Mailed check            59.90  ...   \n",
       "2                    2              0  Electronic check            73.90  ...   \n",
       "3                    2              0  Electronic check            98.00  ...   \n",
       "4                    2              0      Mailed check            83.90  ...   \n",
       "...                ...            ...               ...              ...  ...   \n",
       "7044                 1              1      Mailed check            55.15  ...   \n",
       "7045                 2              0  Electronic check            85.10  ...   \n",
       "7046                 1              0      Mailed check            50.30  ...   \n",
       "7047                 1              2      Mailed check            67.85  ...   \n",
       "7048                 1              2  Electronic check            59.00  ...   \n",
       "\n",
       "      partner_dependents     tenure  average_monthly  \\\n",
       "0                      3   9.044207      65.52114676   \n",
       "1                      0   9.055092      142.7215952   \n",
       "2                      0   3.800406      22.23476189   \n",
       "3                      1  12.631122      388.3904824   \n",
       "4                      1   3.187128      32.47451221   \n",
       "...                  ...        ...              ...   \n",
       "7044                   0  13.470535      33.74114853   \n",
       "7045                   1  22.017626      1016.141348   \n",
       "7046                   0   1.843936      1.359888388   \n",
       "7047                   3  68.204127      73.64099417   \n",
       "7048                   3  62.840678            #REF!   \n",
       "\n",
       "      phone_services_description  internet_services_description  \\\n",
       "0                       One Line                            DSL   \n",
       "1              Two or More Lines                            DSL   \n",
       "2                       One Line                    Fiber Optic   \n",
       "3                       One Line                    Fiber Optic   \n",
       "4                       One Line                    Fiber Optic   \n",
       "...                          ...                            ...   \n",
       "7044                    One Line                            DSL   \n",
       "7045           Two or More Lines                    Fiber Optic   \n",
       "7046                    One Line                            DSL   \n",
       "7047                    One Line                            DSL   \n",
       "7048            No Phone Service                            DSL   \n",
       "\n",
       "      contact_type_description  tenure_month       service_types  \\\n",
       "0                       1 Year             9  Phone and Internet   \n",
       "1               Month-to-Month             9  Phone and Internet   \n",
       "2               Month-to-Month             4  Phone and Internet   \n",
       "3               Month-to-Month            13  Phone and Internet   \n",
       "4               Month-to-Month             3  Phone and Internet   \n",
       "...                        ...           ...                 ...   \n",
       "7044                    1 Year            13  Phone and Internet   \n",
       "7045            Month-to-Month            22  Phone and Internet   \n",
       "7046            Month-to-Month             2  Phone and Internet   \n",
       "7047                    2 Year            68  Phone and Internet   \n",
       "7048                    2 Year            63            Internet   \n",
       "\n",
       "      tenure_years Auto or Non-Auto  \n",
       "0         < 1 year         Non-Auto  \n",
       "1         < 1 year         Non-Auto  \n",
       "2         < 1 year         Non-Auto  \n",
       "3          2 years         Non-Auto  \n",
       "4         < 1 year         Non-Auto  \n",
       "...            ...              ...  \n",
       "7044       2 years         Non-Auto  \n",
       "7045       2 years         Non-Auto  \n",
       "7046      < 1 year         Non-Auto  \n",
       "7047       5 years         Non-Auto  \n",
       "7048       5 years         Non-Auto  \n",
       "\n",
       "[7038 rows x 27 columns]"
      ]
     },
     "execution_count": 20,
     "metadata": {},
     "output_type": "execute_result"
    }
   ],
   "source": [
    "telco_df = telco_df.dropna()\n",
    "telco_df"
   ]
  },
  {
   "cell_type": "code",
   "execution_count": 21,
   "id": "0c1c33c5",
   "metadata": {},
   "outputs": [
    {
     "data": {
      "text/plain": [
       "(7038, 27)"
      ]
     },
     "execution_count": 21,
     "metadata": {},
     "output_type": "execute_result"
    }
   ],
   "source": [
    "telco_df.shape"
   ]
  },
  {
   "cell_type": "code",
   "execution_count": 22,
   "id": "95e4f99f",
   "metadata": {},
   "outputs": [],
   "source": [
    "x = telco_df['tenure']\n",
    "y = telco_df['monthly_charges']"
   ]
  },
  {
   "cell_type": "code",
   "execution_count": 23,
   "id": "503e7f4c",
   "metadata": {},
   "outputs": [
    {
     "data": {
      "text/plain": [
       "(0.2461667830592631, 1.1952280772800575e-97)"
      ]
     },
     "execution_count": 23,
     "metadata": {},
     "output_type": "execute_result"
    }
   ],
   "source": [
    "r, p = stats.pearsonr(x,y)\n",
    "r, p"
   ]
  },
  {
   "cell_type": "code",
   "execution_count": 32,
   "id": "3ca86613",
   "metadata": {},
   "outputs": [
    {
     "data": {
      "text/plain": [
       "Text(0, 0.5, 'MonthlyCharges')"
      ]
     },
     "execution_count": 32,
     "metadata": {},
     "output_type": "execute_result"
    },
    {
     "data": {
      "image/png": "[encoded data removed]",
      "text/plain": [
       "<Figure size 432x288 with 1 Axes>"
      ]
     },
     "metadata": {
      "needs_background": "light"
     },
     "output_type": "display_data"
    }
   ],
   "source": [
    "plt.scatter(x,y)\n",
    "plt.ylim(100)\n",
    "plt.xlabel('Tenure')\n",
    "plt.ylabel('MonthlyCharges')\n",
    "#Weak correlation between tenure and monthly charges"
   ]
  },
  {
   "cell_type": "code",
   "execution_count": 33,
   "id": "fd26fc91",
   "metadata": {},
   "outputs": [],
   "source": [
    "# Tenure and Total Charges\n",
    "y_2 = telco_df['total_charges']"
   ]
  },
  {
   "cell_type": "code",
   "execution_count": 35,
   "id": "94b0c357",
   "metadata": {},
   "outputs": [
    {
     "data": {
      "text/plain": [
       "(0.8258274352556676, 0.0)"
      ]
     },
     "execution_count": 35,
     "metadata": {},
     "output_type": "execute_result"
    }
   ],
   "source": [
    "r, p = stats.pearsonr(x,y_2)\n",
    "r, p"
   ]
  },
  {
   "cell_type": "code",
   "execution_count": 40,
   "id": "4d8ddeac",
   "metadata": {},
   "outputs": [
    {
     "data": {
      "text/plain": [
       "Text(0, 0.5, 'total_charges')"
      ]
     },
     "execution_count": 40,
     "metadata": {},
     "output_type": "execute_result"
    },
    {
     "data": {
      "image/png": "[encoded data removed]",
      "text/plain": [
       "<Figure size 432x288 with 1 Axes>"
      ]
     },
     "metadata": {
      "needs_background": "light"
     },
     "output_type": "display_data"
    }
   ],
   "source": [
    "plt.scatter(x,y_2)\n",
    "plt.xlabel('Tenure')\n",
    "plt.ylabel('total_charges')\n",
    "#Strong correlation between tenure and total charges"
   ]
  },
  {
   "cell_type": "code",
   "execution_count": 69,
   "id": "0abb87a8",
   "metadata": {},
   "outputs": [],
   "source": [
    "#Control for phone and internet service?\n",
    "x_has_phone_te = telco_df['tenure'].where(telco_df['phone_services_description'] == 'No Phone Service')\n",
    "y_has_phone_mc = telco_df['monthly_charges'].where(telco_df['phone_services_description'] ==  'No Phone Service')"
   ]
  },
  {
   "cell_type": "code",
   "execution_count": 75,
   "id": "971448a7",
   "metadata": {},
   "outputs": [],
   "source": [
    "new_x =x_has_phone_te.dropna()\n",
    "new_y =y_has_phone_mc.dropna()"
   ]
  },
  {
   "cell_type": "code",
   "execution_count": 76,
   "id": "d6a5ff8e",
   "metadata": {},
   "outputs": [
    {
     "data": {
      "text/plain": [
       "(0.5929000576223008, 7.050238802215818e-66)"
      ]
     },
     "execution_count": 76,
     "metadata": {},
     "output_type": "execute_result"
    }
   ],
   "source": [
    "r, p = stats.pearsonr(new_x, new_y)\n",
    "r, p"
   ]
  },
  {
   "cell_type": "code",
   "execution_count": 77,
   "id": "96f54658",
   "metadata": {},
   "outputs": [
    {
     "data": {
      "text/plain": [
       "Text(0, 0.5, 'Montlhy Charges')"
      ]
     },
     "execution_count": 77,
     "metadata": {},
     "output_type": "execute_result"
    },
    {
     "data": {
      "image/png": "[encoded data removed]",
      "text/plain": [
       "<Figure size 432x288 with 1 Axes>"
      ]
     },
     "metadata": {
      "needs_background": "light"
     },
     "output_type": "display_data"
    }
   ],
   "source": [
    "plt.scatter( new_x , new_y)\n",
    "plt.xlabel('Tenure')\n",
    "plt.ylabel('Montlhy Charges')\n",
    "#Still a weak correlation but an improvement"
   ]
  },
  {
   "cell_type": "code",
   "execution_count": 78,
   "id": "5c88fef1",
   "metadata": {},
   "outputs": [],
   "source": [
    "# Control tenure and internet services?\n",
    "x_has_internet_te = telco_df['tenure'].where(telco_df['internet_services_description'] == 'No Internet Service')\n",
    "y_has_internet_mc = telco_df['monthly_charges'].where(telco_df['internet_services_description'] ==  'No Internet Service')"
   ]
  },
  {
   "cell_type": "code",
   "execution_count": 79,
   "id": "7badc2c0",
   "metadata": {},
   "outputs": [],
   "source": [
    "new_x_2 = x_has_internet_te.dropna()\n",
    "new_y_2 = y_has_internet_mc.dropna()"
   ]
  },
  {
   "cell_type": "code",
   "execution_count": 81,
   "id": "86961a82",
   "metadata": {},
   "outputs": [
    {
     "data": {
      "text/plain": [
       "(0.34630627233388506, 3.76146409297443e-44)"
      ]
     },
     "execution_count": 81,
     "metadata": {},
     "output_type": "execute_result"
    }
   ],
   "source": [
    "r, p = stats.pearsonr(new_x_2, new_y_2)\n",
    "r, p"
   ]
  },
  {
   "cell_type": "code",
   "execution_count": 80,
   "id": "32379de4",
   "metadata": {},
   "outputs": [
    {
     "data": {
      "text/plain": [
       "Text(0, 0.5, 'Monthly Charges')"
      ]
     },
     "execution_count": 80,
     "metadata": {},
     "output_type": "execute_result"
    },
    {
     "data": {
      "image/png": "[encoded data removed]",
      "text/plain": [
       "<Figure size 432x288 with 1 Axes>"
      ]
     },
     "metadata": {
      "needs_background": "light"
     },
     "output_type": "display_data"
    }
   ],
   "source": [
    "plt.scatter(new_x_2 , new_y_2)\n",
    "plt.xlabel('Tenure')\n",
    "plt.ylabel('Monthly Charges')\n",
    "# Weak correlation"
   ]
  },
  {
   "cell_type": "markdown",
   "id": "6b9cd281",
   "metadata": {},
   "source": [
    "# Use the employees database.\n",
    "- Is there a relationship between how long an employee has been with the company and their salary?"
   ]
  },
  {
   "cell_type": "code",
   "execution_count": 90,
   "id": "8280d080",
   "metadata": {},
   "outputs": [],
   "source": [
    "query = '''\n",
    "SELECT\n",
    "    s.emp_no as emp_no,\n",
    "    s.salary as salary,\n",
    "    e.hire_date as hire_date,\n",
    "    s.to_date as to_date\n",
    "FROM salaries as s\n",
    "JOIN employees as e USING (emp_no)\n",
    "'''"
   ]
  },
  {
   "cell_type": "code",
   "execution_count": 92,
   "id": "e5acb3a3",
   "metadata": {},
   "outputs": [],
   "source": [
    "salaries_df = pd.read_sql(query, url)"
   ]
  },
  {
   "cell_type": "code",
   "execution_count": 93,
   "id": "8bdc4b1c",
   "metadata": {
    "scrolled": true
   },
   "outputs": [
    {
     "data": {
      "text/html": [
       "<div>\n",
       "<style scoped>\n",
       "    .dataframe tbody tr th:only-of-type {\n",
       "        vertical-align: middle;\n",
       "    }\n",
       "\n",
       "    .dataframe tbody tr th {\n",
       "        vertical-align: top;\n",
       "    }\n",
       "\n",
       "    .dataframe thead th {\n",
       "        text-align: right;\n",
       "    }\n",
       "</style>\n",
       "<table border=\"1\" class=\"dataframe\">\n",
       "  <thead>\n",
       "    <tr style=\"text-align: right;\">\n",
       "      <th></th>\n",
       "      <th>emp_no</th>\n",
       "      <th>salary</th>\n",
       "      <th>hire_date</th>\n",
       "      <th>to_date</th>\n",
       "    </tr>\n",
       "  </thead>\n",
       "  <tbody>\n",
       "    <tr>\n",
       "      <th>0</th>\n",
       "      <td>10001</td>\n",
       "      <td>60117</td>\n",
       "      <td>1986-06-26</td>\n",
       "      <td>1987-06-26</td>\n",
       "    </tr>\n",
       "    <tr>\n",
       "      <th>1</th>\n",
       "      <td>10001</td>\n",
       "      <td>62102</td>\n",
       "      <td>1986-06-26</td>\n",
       "      <td>1988-06-25</td>\n",
       "    </tr>\n",
       "    <tr>\n",
       "      <th>2</th>\n",
       "      <td>10001</td>\n",
       "      <td>66074</td>\n",
       "      <td>1986-06-26</td>\n",
       "      <td>1989-06-25</td>\n",
       "    </tr>\n",
       "    <tr>\n",
       "      <th>3</th>\n",
       "      <td>10001</td>\n",
       "      <td>66596</td>\n",
       "      <td>1986-06-26</td>\n",
       "      <td>1990-06-25</td>\n",
       "    </tr>\n",
       "    <tr>\n",
       "      <th>4</th>\n",
       "      <td>10001</td>\n",
       "      <td>66961</td>\n",
       "      <td>1986-06-26</td>\n",
       "      <td>1991-06-25</td>\n",
       "    </tr>\n",
       "  </tbody>\n",
       "</table>\n",
       "</div>"
      ],
      "text/plain": [
       "   emp_no  salary   hire_date     to_date\n",
       "0   10001   60117  1986-06-26  1987-06-26\n",
       "1   10001   62102  1986-06-26  1988-06-25\n",
       "2   10001   66074  1986-06-26  1989-06-25\n",
       "3   10001   66596  1986-06-26  1990-06-25\n",
       "4   10001   66961  1986-06-26  1991-06-25"
      ]
     },
     "execution_count": 93,
     "metadata": {},
     "output_type": "execute_result"
    }
   ],
   "source": [
    "salaries_df.head(5)"
   ]
  },
  {
   "cell_type": "code",
   "execution_count": 97,
   "id": "85eaa977",
   "metadata": {},
   "outputs": [],
   "source": [
    "from datetime import date"
   ]
  },
  {
   "cell_type": "code",
   "execution_count": 108,
   "id": "37ef3385",
   "metadata": {},
   "outputs": [],
   "source": [
    "#Change the value of to_date \"9999-01-01\" to current date \n",
    "salaries_df['to_date']= salaries_df['to_date'].replace(to_replace = salaries_df[\"to_date\"].max(), value = date.today())"
   ]
  },
  {
   "cell_type": "code",
   "execution_count": 111,
   "id": "806ad05d",
   "metadata": {},
   "outputs": [],
   "source": [
    "salaries_df['tenure_days'] = salaries_df[\"to_date\"] - salaries_df[\"hire_date\"]"
   ]
  },
  {
   "cell_type": "code",
   "execution_count": 114,
   "id": "4db8d332",
   "metadata": {},
   "outputs": [
    {
     "data": {
      "text/html": [
       "<div>\n",
       "<style scoped>\n",
       "    .dataframe tbody tr th:only-of-type {\n",
       "        vertical-align: middle;\n",
       "    }\n",
       "\n",
       "    .dataframe tbody tr th {\n",
       "        vertical-align: top;\n",
       "    }\n",
       "\n",
       "    .dataframe thead th {\n",
       "        text-align: right;\n",
       "    }\n",
       "</style>\n",
       "<table border=\"1\" class=\"dataframe\">\n",
       "  <thead>\n",
       "    <tr style=\"text-align: right;\">\n",
       "      <th></th>\n",
       "      <th>emp_no</th>\n",
       "      <th>salary</th>\n",
       "      <th>hire_date</th>\n",
       "      <th>to_date</th>\n",
       "      <th>tenure_days</th>\n",
       "    </tr>\n",
       "  </thead>\n",
       "  <tbody>\n",
       "    <tr>\n",
       "      <th>0</th>\n",
       "      <td>10001</td>\n",
       "      <td>60117</td>\n",
       "      <td>1986-06-26</td>\n",
       "      <td>1987-06-26</td>\n",
       "      <td>365 days</td>\n",
       "    </tr>\n",
       "    <tr>\n",
       "      <th>1</th>\n",
       "      <td>10001</td>\n",
       "      <td>62102</td>\n",
       "      <td>1986-06-26</td>\n",
       "      <td>1988-06-25</td>\n",
       "      <td>730 days</td>\n",
       "    </tr>\n",
       "    <tr>\n",
       "      <th>2</th>\n",
       "      <td>10001</td>\n",
       "      <td>66074</td>\n",
       "      <td>1986-06-26</td>\n",
       "      <td>1989-06-25</td>\n",
       "      <td>1095 days</td>\n",
       "    </tr>\n",
       "    <tr>\n",
       "      <th>3</th>\n",
       "      <td>10001</td>\n",
       "      <td>66596</td>\n",
       "      <td>1986-06-26</td>\n",
       "      <td>1990-06-25</td>\n",
       "      <td>1460 days</td>\n",
       "    </tr>\n",
       "    <tr>\n",
       "      <th>4</th>\n",
       "      <td>10001</td>\n",
       "      <td>66961</td>\n",
       "      <td>1986-06-26</td>\n",
       "      <td>1991-06-25</td>\n",
       "      <td>1825 days</td>\n",
       "    </tr>\n",
       "    <tr>\n",
       "      <th>5</th>\n",
       "      <td>10001</td>\n",
       "      <td>71046</td>\n",
       "      <td>1986-06-26</td>\n",
       "      <td>1992-06-24</td>\n",
       "      <td>2190 days</td>\n",
       "    </tr>\n",
       "    <tr>\n",
       "      <th>6</th>\n",
       "      <td>10001</td>\n",
       "      <td>74333</td>\n",
       "      <td>1986-06-26</td>\n",
       "      <td>1993-06-24</td>\n",
       "      <td>2555 days</td>\n",
       "    </tr>\n",
       "    <tr>\n",
       "      <th>7</th>\n",
       "      <td>10001</td>\n",
       "      <td>75286</td>\n",
       "      <td>1986-06-26</td>\n",
       "      <td>1994-06-24</td>\n",
       "      <td>2920 days</td>\n",
       "    </tr>\n",
       "    <tr>\n",
       "      <th>8</th>\n",
       "      <td>10001</td>\n",
       "      <td>75994</td>\n",
       "      <td>1986-06-26</td>\n",
       "      <td>1995-06-24</td>\n",
       "      <td>3285 days</td>\n",
       "    </tr>\n",
       "    <tr>\n",
       "      <th>9</th>\n",
       "      <td>10001</td>\n",
       "      <td>76884</td>\n",
       "      <td>1986-06-26</td>\n",
       "      <td>1996-06-23</td>\n",
       "      <td>3650 days</td>\n",
       "    </tr>\n",
       "    <tr>\n",
       "      <th>10</th>\n",
       "      <td>10001</td>\n",
       "      <td>80013</td>\n",
       "      <td>1986-06-26</td>\n",
       "      <td>1997-06-23</td>\n",
       "      <td>4015 days</td>\n",
       "    </tr>\n",
       "    <tr>\n",
       "      <th>11</th>\n",
       "      <td>10001</td>\n",
       "      <td>81025</td>\n",
       "      <td>1986-06-26</td>\n",
       "      <td>1998-06-23</td>\n",
       "      <td>4380 days</td>\n",
       "    </tr>\n",
       "    <tr>\n",
       "      <th>12</th>\n",
       "      <td>10001</td>\n",
       "      <td>81097</td>\n",
       "      <td>1986-06-26</td>\n",
       "      <td>1999-06-23</td>\n",
       "      <td>4745 days</td>\n",
       "    </tr>\n",
       "    <tr>\n",
       "      <th>13</th>\n",
       "      <td>10001</td>\n",
       "      <td>84917</td>\n",
       "      <td>1986-06-26</td>\n",
       "      <td>2000-06-22</td>\n",
       "      <td>5110 days</td>\n",
       "    </tr>\n",
       "    <tr>\n",
       "      <th>14</th>\n",
       "      <td>10001</td>\n",
       "      <td>85112</td>\n",
       "      <td>1986-06-26</td>\n",
       "      <td>2001-06-22</td>\n",
       "      <td>5475 days</td>\n",
       "    </tr>\n",
       "    <tr>\n",
       "      <th>15</th>\n",
       "      <td>10001</td>\n",
       "      <td>85097</td>\n",
       "      <td>1986-06-26</td>\n",
       "      <td>2002-06-22</td>\n",
       "      <td>5840 days</td>\n",
       "    </tr>\n",
       "    <tr>\n",
       "      <th>16</th>\n",
       "      <td>10001</td>\n",
       "      <td>88958</td>\n",
       "      <td>1986-06-26</td>\n",
       "      <td>2022-02-18</td>\n",
       "      <td>13021 days</td>\n",
       "    </tr>\n",
       "    <tr>\n",
       "      <th>17</th>\n",
       "      <td>10002</td>\n",
       "      <td>65828</td>\n",
       "      <td>1985-11-21</td>\n",
       "      <td>1997-08-03</td>\n",
       "      <td>4273 days</td>\n",
       "    </tr>\n",
       "    <tr>\n",
       "      <th>18</th>\n",
       "      <td>10002</td>\n",
       "      <td>65909</td>\n",
       "      <td>1985-11-21</td>\n",
       "      <td>1998-08-03</td>\n",
       "      <td>4638 days</td>\n",
       "    </tr>\n",
       "    <tr>\n",
       "      <th>19</th>\n",
       "      <td>10002</td>\n",
       "      <td>67534</td>\n",
       "      <td>1985-11-21</td>\n",
       "      <td>1999-08-03</td>\n",
       "      <td>5003 days</td>\n",
       "    </tr>\n",
       "  </tbody>\n",
       "</table>\n",
       "</div>"
      ],
      "text/plain": [
       "    emp_no  salary   hire_date     to_date tenure_days\n",
       "0    10001   60117  1986-06-26  1987-06-26    365 days\n",
       "1    10001   62102  1986-06-26  1988-06-25    730 days\n",
       "2    10001   66074  1986-06-26  1989-06-25   1095 days\n",
       "3    10001   66596  1986-06-26  1990-06-25   1460 days\n",
       "4    10001   66961  1986-06-26  1991-06-25   1825 days\n",
       "5    10001   71046  1986-06-26  1992-06-24   2190 days\n",
       "6    10001   74333  1986-06-26  1993-06-24   2555 days\n",
       "7    10001   75286  1986-06-26  1994-06-24   2920 days\n",
       "8    10001   75994  1986-06-26  1995-06-24   3285 days\n",
       "9    10001   76884  1986-06-26  1996-06-23   3650 days\n",
       "10   10001   80013  1986-06-26  1997-06-23   4015 days\n",
       "11   10001   81025  1986-06-26  1998-06-23   4380 days\n",
       "12   10001   81097  1986-06-26  1999-06-23   4745 days\n",
       "13   10001   84917  1986-06-26  2000-06-22   5110 days\n",
       "14   10001   85112  1986-06-26  2001-06-22   5475 days\n",
       "15   10001   85097  1986-06-26  2002-06-22   5840 days\n",
       "16   10001   88958  1986-06-26  2022-02-18  13021 days\n",
       "17   10002   65828  1985-11-21  1997-08-03   4273 days\n",
       "18   10002   65909  1985-11-21  1998-08-03   4638 days\n",
       "19   10002   67534  1985-11-21  1999-08-03   5003 days"
      ]
     },
     "execution_count": 114,
     "metadata": {},
     "output_type": "execute_result"
    }
   ],
   "source": [
    "salaries_df.head(20)"
   ]
  },
  {
   "cell_type": "code",
   "execution_count": 116,
   "id": "6773bf17",
   "metadata": {},
   "outputs": [
    {
     "data": {
      "text/plain": [
       "<bound method NDFrame.astype of 0          365 days\n",
       "1          730 days\n",
       "2         1095 days\n",
       "3         1460 days\n",
       "4         1825 days\n",
       "             ...   \n",
       "2844042    365 days\n",
       "2844043    730 days\n",
       "2844044   1095 days\n",
       "2844045   1460 days\n",
       "2844046   8846 days\n",
       "Name: tenure_days, Length: 2844047, dtype: timedelta64[ns]>"
      ]
     },
     "execution_count": 116,
     "metadata": {},
     "output_type": "execute_result"
    }
   ],
   "source": [
    "salaries_df['tenure_days'].astype # Checking the data type of tenure"
   ]
  },
  {
   "cell_type": "code",
   "execution_count": 117,
   "id": "52489db5",
   "metadata": {
    "scrolled": true
   },
   "outputs": [
    {
     "data": {
      "text/plain": [
       "<bound method NDFrame.astype of 0          60117\n",
       "1          62102\n",
       "2          66074\n",
       "3          66596\n",
       "4          66961\n",
       "           ...  \n",
       "2844042    63707\n",
       "2844043    67043\n",
       "2844044    70745\n",
       "2844045    74327\n",
       "2844046    77303\n",
       "Name: salary, Length: 2844047, dtype: int64>"
      ]
     },
     "execution_count": 117,
     "metadata": {},
     "output_type": "execute_result"
    }
   ],
   "source": [
    "salaries_df['salary'].astype"
   ]
  },
  {
   "cell_type": "code",
   "execution_count": 120,
   "id": "ba673d10",
   "metadata": {},
   "outputs": [],
   "source": [
    "#Change tenure to string type first and then convert to int \n",
    "salaries_df[\"tenure_days\"] = salaries_df.tenure_days.astype(str)"
   ]
  },
  {
   "cell_type": "code",
   "execution_count": 121,
   "id": "9367ec2b",
   "metadata": {},
   "outputs": [],
   "source": [
    "salaries_df[\"tenure_days\"] = salaries_df.tenure_days.str.strip('days').astype(int)"
   ]
  },
  {
   "cell_type": "code",
   "execution_count": 122,
   "id": "c8848caa",
   "metadata": {},
   "outputs": [
    {
     "data": {
      "text/plain": [
       "(0.30812733701373524, 0.0)"
      ]
     },
     "execution_count": 122,
     "metadata": {},
     "output_type": "execute_result"
    }
   ],
   "source": [
    "r, p = stats.pearsonr(salaries_df.tenure_days, salaries_df.salary)\n",
    "r, p"
   ]
  },
  {
   "cell_type": "code",
   "execution_count": 123,
   "id": "9271dcb8",
   "metadata": {},
   "outputs": [
    {
     "data": {
      "text/plain": [
       "Text(0, 0.5, 'Salary')"
      ]
     },
     "execution_count": 123,
     "metadata": {},
     "output_type": "execute_result"
    },
    {
     "data": {
      "image/png": "[encoded data removed]",
      "text/plain": [
       "<Figure size 432x288 with 1 Axes>"
      ]
     },
     "metadata": {
      "needs_background": "light"
     },
     "output_type": "display_data"
    }
   ],
   "source": [
    "plt.scatter(salaries_df.tenure_days, salaries_df.salary)\n",
    "plt.xlabel('Tenure in days')\n",
    "plt.ylabel('Salary')\n",
    "#There is weak correlation between the two"
   ]
  },
  {
   "cell_type": "markdown",
   "id": "86d1034e",
   "metadata": {},
   "source": [
    " - Is there a relationship between how long an employee has been with the company and the number of titles they have had?"
   ]
  },
  {
   "cell_type": "code",
   "execution_count": 125,
   "id": "8268f20c",
   "metadata": {},
   "outputs": [],
   "source": [
    "query2 = '''\n",
    "SELECT\n",
    "    t.emp_no as emp_no,\n",
    "    t.title as title,\n",
    "    e.hire_date as hire_date,\n",
    "    t.to_date as to_date\n",
    "FROM titles as t\n",
    "JOIN employees as e USING (emp_no)\n",
    "'''"
   ]
  },
  {
   "cell_type": "code",
   "execution_count": 126,
   "id": "61972723",
   "metadata": {},
   "outputs": [],
   "source": [
    "titles_df =  pd.read_sql(query2, url)"
   ]
  },
  {
   "cell_type": "code",
   "execution_count": 127,
   "id": "0deab614",
   "metadata": {},
   "outputs": [],
   "source": [
    "#Do same thing like salaries df\n",
    "#change to_date to current date and change data type\n",
    "titles_df['to_date']= titles_df['to_date'].replace(to_replace = titles_df[\"to_date\"].max(), value = date.today())"
   ]
  },
  {
   "cell_type": "code",
   "execution_count": 128,
   "id": "b5488122",
   "metadata": {},
   "outputs": [],
   "source": [
    "titles_df['tenure_days'] = (titles_df.to_date - titles_df.hire_date)"
   ]
  },
  {
   "cell_type": "code",
   "execution_count": 131,
   "id": "877a6ce1",
   "metadata": {},
   "outputs": [],
   "source": [
    "titles_df[\"tenure_days\"] = titles_df.tenure_days.astype(str)"
   ]
  },
  {
   "cell_type": "code",
   "execution_count": 132,
   "id": "ebc1c5ea",
   "metadata": {},
   "outputs": [],
   "source": [
    "titles_df[\"tenure_days\"] = titles_df.tenure_days.str.strip('days').astype(int)"
   ]
  },
  {
   "cell_type": "code",
   "execution_count": 135,
   "id": "e700d74c",
   "metadata": {},
   "outputs": [
    {
     "data": {
      "text/html": [
       "<div>\n",
       "<style scoped>\n",
       "    .dataframe tbody tr th:only-of-type {\n",
       "        vertical-align: middle;\n",
       "    }\n",
       "\n",
       "    .dataframe tbody tr th {\n",
       "        vertical-align: top;\n",
       "    }\n",
       "\n",
       "    .dataframe thead th {\n",
       "        text-align: right;\n",
       "    }\n",
       "</style>\n",
       "<table border=\"1\" class=\"dataframe\">\n",
       "  <thead>\n",
       "    <tr style=\"text-align: right;\">\n",
       "      <th></th>\n",
       "      <th>emp_no</th>\n",
       "      <th>title</th>\n",
       "      <th>hire_date</th>\n",
       "      <th>to_date</th>\n",
       "      <th>tenure_days</th>\n",
       "    </tr>\n",
       "  </thead>\n",
       "  <tbody>\n",
       "    <tr>\n",
       "      <th>0</th>\n",
       "      <td>10001</td>\n",
       "      <td>Senior Engineer</td>\n",
       "      <td>1986-06-26</td>\n",
       "      <td>2022-02-18</td>\n",
       "      <td>13021</td>\n",
       "    </tr>\n",
       "    <tr>\n",
       "      <th>1</th>\n",
       "      <td>10002</td>\n",
       "      <td>Staff</td>\n",
       "      <td>1985-11-21</td>\n",
       "      <td>2022-02-18</td>\n",
       "      <td>13238</td>\n",
       "    </tr>\n",
       "    <tr>\n",
       "      <th>2</th>\n",
       "      <td>10003</td>\n",
       "      <td>Senior Engineer</td>\n",
       "      <td>1986-08-28</td>\n",
       "      <td>2022-02-18</td>\n",
       "      <td>12958</td>\n",
       "    </tr>\n",
       "    <tr>\n",
       "      <th>3</th>\n",
       "      <td>10004</td>\n",
       "      <td>Engineer</td>\n",
       "      <td>1986-12-01</td>\n",
       "      <td>1995-12-01</td>\n",
       "      <td>3287</td>\n",
       "    </tr>\n",
       "    <tr>\n",
       "      <th>4</th>\n",
       "      <td>10004</td>\n",
       "      <td>Senior Engineer</td>\n",
       "      <td>1986-12-01</td>\n",
       "      <td>2022-02-18</td>\n",
       "      <td>12863</td>\n",
       "    </tr>\n",
       "  </tbody>\n",
       "</table>\n",
       "</div>"
      ],
      "text/plain": [
       "   emp_no            title   hire_date     to_date  tenure_days\n",
       "0   10001  Senior Engineer  1986-06-26  2022-02-18        13021\n",
       "1   10002            Staff  1985-11-21  2022-02-18        13238\n",
       "2   10003  Senior Engineer  1986-08-28  2022-02-18        12958\n",
       "3   10004         Engineer  1986-12-01  1995-12-01         3287\n",
       "4   10004  Senior Engineer  1986-12-01  2022-02-18        12863"
      ]
     },
     "execution_count": 135,
     "metadata": {},
     "output_type": "execute_result"
    }
   ],
   "source": [
    "titles_df.head()"
   ]
  },
  {
   "cell_type": "code",
   "execution_count": 141,
   "id": "9a98cf97",
   "metadata": {},
   "outputs": [],
   "source": [
    "#Create a title series and tenure series by count the title in title_df\n",
    "titles_series = titles_df.groupby('emp_no').count().title\n",
    "tenure_series = titles_df.sort_values(\"to_date\").groupby(\"emp_no\").last()[\"tenure_days\"]"
   ]
  },
  {
   "cell_type": "code",
   "execution_count": 142,
   "id": "f3a4cf1c",
   "metadata": {},
   "outputs": [
    {
     "data": {
      "text/plain": [
       "(0.34974211906440283, 0.0)"
      ]
     },
     "execution_count": 142,
     "metadata": {},
     "output_type": "execute_result"
    }
   ],
   "source": [
    "r, p = stats.pearsonr(tenure_series, titles_series)\n",
    "r, p"
   ]
  },
  {
   "cell_type": "code",
   "execution_count": 143,
   "id": "672b46b7",
   "metadata": {},
   "outputs": [
    {
     "data": {
      "text/plain": [
       "Text(0, 0.5, 'count Titles')"
      ]
     },
     "execution_count": 143,
     "metadata": {},
     "output_type": "execute_result"
    },
    {
     "data": {
      "image/png": "[encoded data removed]",
      "text/plain": [
       "<Figure size 432x288 with 1 Axes>"
      ]
     },
     "metadata": {
      "needs_background": "light"
     },
     "output_type": "display_data"
    }
   ],
   "source": [
    "plt.scatter(tenure_series, titles_series)\n",
    "plt.xlabel('Tenure in days')\n",
    "plt.ylabel('count Titles')\n",
    "#Have weak correlation"
   ]
  },
  {
   "cell_type": "markdown",
   "id": "51b61101",
   "metadata": {},
   "source": [
    "# Use the sleepstudy data. Is there a relationship between days and reaction time?"
   ]
  },
  {
   "cell_type": "code",
   "execution_count": 144,
   "id": "90e8efd2",
   "metadata": {},
   "outputs": [],
   "source": [
    "sleepstudy_df = data(\"sleepstudy\")"
   ]
  },
  {
   "cell_type": "code",
   "execution_count": 148,
   "id": "60d3c23c",
   "metadata": {},
   "outputs": [
    {
     "name": "stdout",
     "output_type": "stream",
     "text": [
      "<class 'pandas.core.frame.DataFrame'>\n",
      "Int64Index: 180 entries, 1 to 180\n",
      "Data columns (total 3 columns):\n",
      " #   Column    Non-Null Count  Dtype  \n",
      "---  ------    --------------  -----  \n",
      " 0   Reaction  180 non-null    float64\n",
      " 1   Days      180 non-null    int64  \n",
      " 2   Subject   180 non-null    int64  \n",
      "dtypes: float64(1), int64(2)\n",
      "memory usage: 5.6 KB\n"
     ]
    }
   ],
   "source": [
    "sleepstudy_df.info()"
   ]
  },
  {
   "cell_type": "code",
   "execution_count": 145,
   "id": "a715187e",
   "metadata": {},
   "outputs": [
    {
     "data": {
      "text/html": [
       "<div>\n",
       "<style scoped>\n",
       "    .dataframe tbody tr th:only-of-type {\n",
       "        vertical-align: middle;\n",
       "    }\n",
       "\n",
       "    .dataframe tbody tr th {\n",
       "        vertical-align: top;\n",
       "    }\n",
       "\n",
       "    .dataframe thead th {\n",
       "        text-align: right;\n",
       "    }\n",
       "</style>\n",
       "<table border=\"1\" class=\"dataframe\">\n",
       "  <thead>\n",
       "    <tr style=\"text-align: right;\">\n",
       "      <th></th>\n",
       "      <th>Reaction</th>\n",
       "      <th>Days</th>\n",
       "      <th>Subject</th>\n",
       "    </tr>\n",
       "  </thead>\n",
       "  <tbody>\n",
       "    <tr>\n",
       "      <th>1</th>\n",
       "      <td>249.5600</td>\n",
       "      <td>0</td>\n",
       "      <td>308</td>\n",
       "    </tr>\n",
       "    <tr>\n",
       "      <th>2</th>\n",
       "      <td>258.7047</td>\n",
       "      <td>1</td>\n",
       "      <td>308</td>\n",
       "    </tr>\n",
       "    <tr>\n",
       "      <th>3</th>\n",
       "      <td>250.8006</td>\n",
       "      <td>2</td>\n",
       "      <td>308</td>\n",
       "    </tr>\n",
       "    <tr>\n",
       "      <th>4</th>\n",
       "      <td>321.4398</td>\n",
       "      <td>3</td>\n",
       "      <td>308</td>\n",
       "    </tr>\n",
       "    <tr>\n",
       "      <th>5</th>\n",
       "      <td>356.8519</td>\n",
       "      <td>4</td>\n",
       "      <td>308</td>\n",
       "    </tr>\n",
       "  </tbody>\n",
       "</table>\n",
       "</div>"
      ],
      "text/plain": [
       "   Reaction  Days  Subject\n",
       "1  249.5600     0      308\n",
       "2  258.7047     1      308\n",
       "3  250.8006     2      308\n",
       "4  321.4398     3      308\n",
       "5  356.8519     4      308"
      ]
     },
     "execution_count": 145,
     "metadata": {},
     "output_type": "execute_result"
    }
   ],
   "source": [
    "sleepstudy_df.head()"
   ]
  },
  {
   "cell_type": "code",
   "execution_count": 146,
   "id": "3df05d34",
   "metadata": {},
   "outputs": [
    {
     "name": "stdout",
     "output_type": "stream",
     "text": [
      "sleepstudy\n",
      "\n",
      "PyDataset Documentation (adopted from R Documentation. The displayed examples are in R)\n",
      "\n",
      "## Reaction times in a sleep deprivation study\n",
      "\n",
      "### Description\n",
      "\n",
      "The average reaction time per day for subjects in a sleep deprivation study.\n",
      "On day 0 the subjects had their normal amount of sleep. Starting that night\n",
      "they were restricted to 3 hours of sleep per night. The observations represent\n",
      "the average reaction time on a series of tests given each day to each subject.\n",
      "\n",
      "### Format\n",
      "\n",
      "A data frame with 180 observations on the following 3 variables.\n",
      "\n",
      "`Reaction`\n",
      "\n",
      "Average reaction time (ms)\n",
      "\n",
      "`Days`\n",
      "\n",
      "Number of days of sleep deprivation\n",
      "\n",
      "`Subject`\n",
      "\n",
      "Subject number on which the observation was made.\n",
      "\n",
      "### Details\n",
      "\n",
      "These data are from the study described in Belenky et al. (2003), for the\n",
      "sleep-deprived group and for the first 10 days of the study, up to the\n",
      "recovery period.\n",
      "\n",
      "### References\n",
      "\n",
      "Gregory Belenky, Nancy J. Wesensten, David R. Thorne, Maria L. Thomas, Helen\n",
      "C. Sing, Daniel P. Redmond, Michael B. Russo and Thomas J. Balkin (2003)\n",
      "Patterns of performance degradation and restoration during sleep restriction\n",
      "and subsequent recovery: a sleep dose-response study. _Journal of Sleep\n",
      "Research_ **12**, 1–12.\n",
      "\n",
      "### Examples\n",
      "\n",
      "    str(sleepstudy)\n",
      "    require(lattice)\n",
      "    xyplot(Reaction ~ Days | Subject, sleepstudy, type = c(\"g\",\"p\",\"r\"),\n",
      "           index = function(x,y) coef(lm(y ~ x))[1],\n",
      "           xlab = \"Days of sleep deprivation\",\n",
      "           ylab = \"Average reaction time (ms)\", aspect = \"xy\")\n",
      "    (fm1 <- lmer(Reaction ~ Days + (Days|Subject), sleepstudy))\n",
      "    (fm2 <- lmer(Reaction ~ Days + (1|Subject) + (0+Days|Subject), sleepstudy))\n",
      "\n",
      "\n"
     ]
    }
   ],
   "source": [
    "#Learn more about sleep dataset\n",
    "data('sleepstudy', show_doc='True')"
   ]
  },
  {
   "cell_type": "code",
   "execution_count": 152,
   "id": "7abe735a",
   "metadata": {},
   "outputs": [],
   "source": [
    "x_days = sleepstudy_df.Days\n",
    "y_rea = sleepstudy_df.Reaction"
   ]
  },
  {
   "cell_type": "code",
   "execution_count": 153,
   "id": "f45bff19",
   "metadata": {},
   "outputs": [
    {
     "data": {
      "text/plain": [
       "(0.5352302262650253, 9.894096322214812e-15)"
      ]
     },
     "execution_count": 153,
     "metadata": {},
     "output_type": "execute_result"
    }
   ],
   "source": [
    "r, p = stats.pearsonr(x,y)\n",
    "r, p"
   ]
  },
  {
   "cell_type": "code",
   "execution_count": 150,
   "id": "be195af7",
   "metadata": {},
   "outputs": [
    {
     "data": {
      "text/plain": [
       "Text(0, 0.5, 'Average reaction time (ms)')"
      ]
     },
     "execution_count": 150,
     "metadata": {},
     "output_type": "execute_result"
    },
    {
     "data": {
      "image/png": "[encoded data removed]",
      "text/plain": [
       "<Figure size 432x288 with 1 Axes>"
      ]
     },
     "metadata": {
      "needs_background": "light"
     },
     "output_type": "display_data"
    }
   ],
   "source": [
    "plt.scatter(x,y)\n",
    "plt.xlabel(\"Number of days of sleep deprivation\")\n",
    "plt.ylabel(\"Average reaction time (ms)\")"
   ]
  },
  {
   "cell_type": "code",
   "execution_count": null,
   "id": "74a84df7",
   "metadata": {},
   "outputs": [],
   "source": []
  }
 ],
 "metadata": {
  "kernelspec": {
   "display_name": "Python 3 (ipykernel)",
   "language": "python",
   "name": "python3"
  },
  "language_info": {
   "codemirror_mode": {
    "name": "ipython",
    "version": 3
   },
   "file_extension": ".py",
   "mimetype": "text/x-python",
   "name": "python",
   "nbconvert_exporter": "python",
   "pygments_lexer": "ipython3",
   "version": "3.9.7"
  }
 },
 "nbformat": 4,
 "nbformat_minor": 5
}
