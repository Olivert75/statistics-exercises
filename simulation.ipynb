{
 "cells": [
  {
   "cell_type": "code",
   "execution_count": 2,
   "id": "52fd3721",
   "metadata": {},
   "outputs": [],
   "source": [
    "import numpy as np\n",
    "import pandas as pd\n",
    "\n",
    "np.random.seed(1349)"
   ]
  },
  {
   "cell_type": "markdown",
   "id": "4dd07a70",
   "metadata": {},
   "source": [
    "How likely is it that you roll doubles when rolling two dice?"
   ]
  },
  {
   "cell_type": "code",
   "execution_count": 5,
   "id": "6f860381",
   "metadata": {
    "scrolled": true
   },
   "outputs": [
    {
     "data": {
      "text/plain": [
       "0.1669"
      ]
     },
     "execution_count": 5,
     "metadata": {},
     "output_type": "execute_result"
    }
   ],
   "source": [
    "n_trials = nrows = 10_000\n",
    "n_dice = ncols= 2\n",
    "#get the posibles outcomes for each roll\n",
    "rolls = np.random.choice([1,2,3,4,5,6], n_trials * n_dice).reshape(nrows, ncols)\n",
    "\n",
    "#lets convert it  to a dataframe so we can use lambda and compare the two columns x[0] == x[1] this gives us a boolean result\n",
    "res = pd.DataFrame(rolls).apply(lambda x : x[0] == x[1] in x.values, axis=1)\n",
    "\n",
    "#calculate the mean\n",
    "prob = res.mean()\n",
    "\n",
    "prob"
   ]
  },
  {
   "cell_type": "code",
   "execution_count": 5,
   "id": "9812cc41",
   "metadata": {},
   "outputs": [
    {
     "data": {
      "text/plain": [
       "0.1658"
      ]
     },
     "execution_count": 5,
     "metadata": {},
     "output_type": "execute_result"
    }
   ],
   "source": [
    "df = pd.DataFrame()\n",
    "df['roll_one']= np.random.randint(1, 7, 10_000)\n",
    "df['roll_two']= np.random.randint(1, 7, 10_000)\n",
    "(df['roll_one'] == df['roll_two']).mean()"
   ]
  },
  {
   "cell_type": "code",
   "execution_count": 6,
   "id": "aa3d6f04",
   "metadata": {},
   "outputs": [
    {
     "data": {
      "text/plain": [
       "0.1669"
      ]
     },
     "execution_count": 6,
     "metadata": {},
     "output_type": "execute_result"
    }
   ],
   "source": [
    "# Put it in a series \n",
    "res = [x[0] == x[1] for x in rolls]\n",
    "x = pd.Series(res)\n",
    "x.mean()"
   ]
  },
  {
   "cell_type": "markdown",
   "id": "b4a97c7a",
   "metadata": {},
   "source": [
    "If you flip 8 coins, what is the probability of getting exactly 3 heads? What is the probability of getting more than 3 heads?"
   ]
  },
  {
   "cell_type": "code",
   "execution_count": 10,
   "id": "8362a98d",
   "metadata": {},
   "outputs": [
    {
     "data": {
      "text/plain": [
       "0.2256"
      ]
     },
     "execution_count": 10,
     "metadata": {},
     "output_type": "execute_result"
    }
   ],
   "source": [
    "n_trial = n_rows = 10_000\n",
    "n_coins = n_cols = 8\n",
    "#heads=0\n",
    "flips =  np.random.choice([0,1], n_trial * n_coins).reshape(n_rows, n_cols)\n",
    "\n",
    "sum_by_flips = flips.sum(axis =1)\n",
    "heads = sum_by_flips == 3\n",
    "heads3= heads.mean()\n",
    "heads3"
   ]
  },
  {
   "cell_type": "code",
   "execution_count": 11,
   "id": "59e48921",
   "metadata": {},
   "outputs": [
    {
     "data": {
      "text/plain": [
       "0.6275"
      ]
     },
     "execution_count": 11,
     "metadata": {},
     "output_type": "execute_result"
    }
   ],
   "source": [
    "heads_more = sum_by_flips > 3\n",
    "heads_more_3 = heads_more.mean()\n",
    "\n",
    "heads_more_3"
   ]
  },
  {
   "cell_type": "markdown",
   "id": "7a919df4",
   "metadata": {},
   "source": [
    "There are approximitely 3 web development cohorts for every 1 data science cohort at Codeup. Assuming that Codeup randomly selects an alumni to put on a billboard, what are the odds that the two billboards I drive past both have data science students on them?"
   ]
  },
  {
   "cell_type": "code",
   "execution_count": 9,
   "id": "f4c6ca32",
   "metadata": {},
   "outputs": [
    {
     "data": {
      "text/plain": [
       "0.061"
      ]
     },
     "execution_count": 9,
     "metadata": {},
     "output_type": "execute_result"
    }
   ],
   "source": [
    "p_ds = 1/4\n",
    "n_billb = n_cols = 2\n",
    "n_simulated_al = n_rows = 10_000\n",
    "\n",
    "trials = np.random.random((n_rows,n_cols))\n",
    "odds_ds = trials < p_ds\n",
    "# When we sum an array of boolean values, numpy will treat True as 1 and False as 0. odds_ds.sum(axis=1)\n",
    "\n",
    "p_dsis2 = (odds_ds.sum(axis=1) == 2).mean()\n",
    "\n",
    "p_dsis2"
   ]
  },
  {
   "cell_type": "markdown",
   "id": "b10a3ab8",
   "metadata": {},
   "source": [
    "Codeup students buy, on average, 3 poptart packages with a standard deviation of 1.5 a day from the snack vending machine. If on monday the machine is restocked with 17 poptart packages, how likely is it that I will be able to buy some poptarts on Friday afternoon? (Remember, if you have mean and standard deviation, use the np.random.normal)"
   ]
  },
  {
   "cell_type": "code",
   "execution_count": 12,
   "id": "1ec83f03",
   "metadata": {},
   "outputs": [
    {
     "data": {
      "text/plain": [
       "0.929"
      ]
     },
     "execution_count": 12,
     "metadata": {},
     "output_type": "execute_result"
    }
   ],
   "source": [
    "avg = 3\n",
    "std= 1.5\n",
    " \n",
    "consumed = np.random.normal(avg, std, size=(10000, 4)).round()\n",
    "pops_bought = consumed.sum(axis =1)\n",
    "pop_left = 17 - pops_bought\n",
    "(pop_left >= 1).mean()"
   ]
  },
  {
   "cell_type": "markdown",
   "id": "809bf414",
   "metadata": {},
   "source": [
    "Compare Heights\n",
    "\n",
    "Men have an average height of 178 cm and standard deviation of 8cm.\n",
    "Women have a mean of 170, sd = 6cm.\n",
    "Since you have means and standard deviations, you can use np.random.normal to generate observations.\n",
    "If a man and woman are chosen at random, P(woman taller than man)?"
   ]
  },
  {
   "cell_type": "code",
   "execution_count": 16,
   "id": "d87f8e3e",
   "metadata": {},
   "outputs": [
    {
     "data": {
      "text/plain": [
       "0.2086"
      ]
     },
     "execution_count": 16,
     "metadata": {},
     "output_type": "execute_result"
    }
   ],
   "source": [
    "men = np.random.normal(178, 8, size=(10_000, 1))\n",
    "women = np.random.normal(170, 6, size=(10_000, 1))\n",
    "\n",
    "w_taller = women > men\n",
    "prob_w_taller = w_taller.mean()\n",
    "prob_w_taller"
   ]
  },
  {
   "cell_type": "markdown",
   "id": "04938b69",
   "metadata": {},
   "source": [
    "When installing anaconda on a student's computer, there's a 1 in 250 chance that the download is corrupted and the installation fails. What are the odds that after having 50 students download anaconda, no one has an installation issue? 100 students?"
   ]
  },
  {
   "cell_type": "code",
   "execution_count": 19,
   "id": "d700fe9b",
   "metadata": {},
   "outputs": [
    {
     "data": {
      "text/plain": [
       "0.8099"
      ]
     },
     "execution_count": 19,
     "metadata": {},
     "output_type": "execute_result"
    }
   ],
   "source": [
    "probability = 1/250\n",
    "n_students = n_cols = 50\n",
    "n_simulations = n_rows = 10_000\n",
    "\n",
    "trial = np.random.random((n_rows,n_cols))\n",
    "corrup=  trial < probability\n",
    "no_issu = (corrup.sum(axis=1) == 0).mean()\n",
    "no_issu"
   ]
  },
  {
   "cell_type": "markdown",
   "id": "6554af57",
   "metadata": {},
   "source": [
    "What is the probability that we observe an installation issue within the first 150 students that download anaconda?"
   ]
  },
  {
   "cell_type": "code",
   "execution_count": 13,
   "id": "a503fcbb",
   "metadata": {},
   "outputs": [
    {
     "data": {
      "text/plain": [
       "0.4484"
      ]
     },
     "execution_count": 13,
     "metadata": {},
     "output_type": "execute_result"
    }
   ],
   "source": [
    "#chance of fail   1/250\n",
    "#chance of success    1-(1/250)\n",
    "result = [True, False]\n",
    "download_error = np.random.choice(result, size = (10_000,150),p=(1-(1/250),1/250))\n",
    "fail_prob = download_error.sum(axis=1)\n",
    "(fail_prob <150).mean()"
   ]
  },
  {
   "cell_type": "markdown",
   "id": "5fec655f",
   "metadata": {},
   "source": [
    "How likely is it that 450 students all download anaconda without an issue?"
   ]
  },
  {
   "cell_type": "code",
   "execution_count": 27,
   "id": "83f8e243",
   "metadata": {},
   "outputs": [
    {
     "data": {
      "text/plain": [
       "0.1591"
      ]
     },
     "execution_count": 27,
     "metadata": {},
     "output_type": "execute_result"
    }
   ],
   "source": [
    "download_error = np.random.choice(result, size = (10_000,450),p=(.996,.004))\n",
    "no_issue = download_error.sum(axis=1)\n",
    "(no_issue ==450).mean()"
   ]
  },
  {
   "cell_type": "markdown",
   "id": "3ac334b2",
   "metadata": {},
   "source": [
    "There's a 70% chance on any given day that there will be at least one food truck at Travis Park. However, you haven't seen a food truck there in 3 days. How unlikely is this?"
   ]
  },
  {
   "cell_type": "code",
   "execution_count": 24,
   "id": "53029aba",
   "metadata": {},
   "outputs": [
    {
     "data": {
      "text/plain": [
       "0.026813"
      ]
     },
     "execution_count": 24,
     "metadata": {},
     "output_type": "execute_result"
    }
   ],
   "source": [
    "chance = .70\n",
    "n_days = n_cols = 3\n",
    "n_sim_ft = n_rows = 10**6\n",
    "\n",
    "trials = np.random.random((n_rows,n_cols))\n",
    "\n",
    "food_truck = trials < chance\n",
    "no_ft = (food_truck.sum(axis=1) == 0).mean()\n",
    "no_ft"
   ]
  },
  {
   "cell_type": "markdown",
   "id": "3f0c9e4f",
   "metadata": {},
   "source": [
    "How likely is it that a food truck will show up sometime this week?\n"
   ]
  },
  {
   "cell_type": "code",
   "execution_count": 23,
   "id": "0f765036",
   "metadata": {},
   "outputs": [
    {
     "data": {
      "text/plain": [
       "0.910119"
      ]
     },
     "execution_count": 23,
     "metadata": {},
     "output_type": "execute_result"
    }
   ],
   "source": [
    "n_days = n_cols = 2 #it represents the las 2 days\n",
    "trials = np.random.random((n_rows,n_cols))\n",
    "food_truck = trials < chance\n",
    "some_ft= (food_truck.sum(axis=1) > 0).mean()\n",
    "some_ft"
   ]
  },
  {
   "cell_type": "markdown",
   "id": "b0294a10",
   "metadata": {},
   "source": [
    "If 23 people are in the same room, what are the odds that two of them share a birthday? What if it's 20 people? 40?"
   ]
  },
  {
   "cell_type": "code",
   "execution_count": 20,
   "id": "3ee85f2e",
   "metadata": {},
   "outputs": [
    {
     "data": {
      "text/plain": [
       "0.0628"
      ]
     },
     "execution_count": 20,
     "metadata": {},
     "output_type": "execute_result"
    }
   ],
   "source": [
    "result=[1,0]\n",
    "share_birthday = np.random.choice(result,size=(10_000,23), p=(1/365,(1-(1/365))))\n",
    "share_birthday_23 = share_birthday.sum(axis=1)\n",
    "(share_birthday_23 >0).mean()"
   ]
  },
  {
   "cell_type": "markdown",
   "id": "99058773",
   "metadata": {},
   "source": [
    "for 20 people"
   ]
  },
  {
   "cell_type": "code",
   "execution_count": 19,
   "id": "8573dd98",
   "metadata": {},
   "outputs": [
    {
     "data": {
      "text/plain": [
       "1.0"
      ]
     },
     "execution_count": 19,
     "metadata": {},
     "output_type": "execute_result"
    }
   ],
   "source": [
    "result=[1,0]\n",
    "share_birthday = np.random.choice(result,size=(10_000,20), p=(1/365,(1-(1/365))))\n",
    "share_birthday_20 = share_birthday.sum(axis=1)\n",
    "(share_birthday_20 >0).mean()"
   ]
  },
  {
   "cell_type": "markdown",
   "id": "3bba5d76",
   "metadata": {},
   "source": [
    "for 40 people"
   ]
  },
  {
   "cell_type": "code",
   "execution_count": 34,
   "id": "aac4987a",
   "metadata": {},
   "outputs": [
    {
     "data": {
      "text/plain": [
       "0.1034"
      ]
     },
     "execution_count": 34,
     "metadata": {},
     "output_type": "execute_result"
    }
   ],
   "source": [
    "result=[1,0]\n",
    "share_birthday = np.random.choice(result,size=(10_000,40), p=(1/365,(1-(1/365))))\n",
    "share_birthday_40 = share_birthday.sum(axis=1)\n",
    "(share_birthday_40 >0).mean()"
   ]
  }
 ],
 "metadata": {
  "kernelspec": {
   "display_name": "Python 3 (ipykernel)",
   "language": "python",
   "name": "python3"
  },
  "language_info": {
   "codemirror_mode": {
    "name": "ipython",
    "version": 3
   },
   "file_extension": ".py",
   "mimetype": "text/x-python",
   "name": "python",
   "nbconvert_exporter": "python",
   "pygments_lexer": "ipython3",
   "version": "3.9.7"
  }
 },
 "nbformat": 4,
 "nbformat_minor": 5
}
